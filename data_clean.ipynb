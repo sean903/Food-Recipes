{
 "cells": [
  {
   "cell_type": "code",
   "execution_count": 1,
   "metadata": {},
   "outputs": [],
   "source": [
    "import pandas as pd \n",
    "import numpy as np\n",
    "import re\n",
    "from datetime import datetime\n",
    "import ast \n",
    "import pickle\n",
    "import json\n",
    "import warnings\n",
    "warnings.filterwarnings('ignore')"
   ]
  },
  {
   "cell_type": "code",
   "execution_count": 2,
   "metadata": {},
   "outputs": [],
   "source": [
    "recipes_df = pd.read_csv('data/recipes60k.csv')"
   ]
  },
  {
   "cell_type": "code",
   "execution_count": 3,
   "metadata": {},
   "outputs": [
    {
     "data": {
      "text/html": [
       "<div>\n",
       "<style scoped>\n",
       "    .dataframe tbody tr th:only-of-type {\n",
       "        vertical-align: middle;\n",
       "    }\n",
       "\n",
       "    .dataframe tbody tr th {\n",
       "        vertical-align: top;\n",
       "    }\n",
       "\n",
       "    .dataframe thead th {\n",
       "        text-align: right;\n",
       "    }\n",
       "</style>\n",
       "<table border=\"1\" class=\"dataframe\">\n",
       "  <thead>\n",
       "    <tr style=\"text-align: right;\">\n",
       "      <th></th>\n",
       "      <th>Unnamed: 0</th>\n",
       "      <th>RecipeId</th>\n",
       "      <th>Name</th>\n",
       "      <th>AuthorId</th>\n",
       "      <th>AuthorName</th>\n",
       "      <th>CookTime</th>\n",
       "      <th>PrepTime</th>\n",
       "      <th>TotalTime</th>\n",
       "      <th>DatePublished</th>\n",
       "      <th>Description</th>\n",
       "      <th>...</th>\n",
       "      <th>SaturatedFatContent</th>\n",
       "      <th>CholesterolContent</th>\n",
       "      <th>SodiumContent</th>\n",
       "      <th>CarbohydrateContent</th>\n",
       "      <th>FiberContent</th>\n",
       "      <th>SugarContent</th>\n",
       "      <th>ProteinContent</th>\n",
       "      <th>RecipeServings</th>\n",
       "      <th>RecipeYield</th>\n",
       "      <th>RecipeInstructions</th>\n",
       "    </tr>\n",
       "  </thead>\n",
       "  <tbody>\n",
       "    <tr>\n",
       "      <th>0</th>\n",
       "      <td>0</td>\n",
       "      <td>38</td>\n",
       "      <td>Low-Fat Berry Blue Frozen Dessert</td>\n",
       "      <td>1533</td>\n",
       "      <td>Dancer</td>\n",
       "      <td>PT24H</td>\n",
       "      <td>PT45M</td>\n",
       "      <td>PT24H45M</td>\n",
       "      <td>1999-08-09T21:46:00Z</td>\n",
       "      <td>Make and share this Low-Fat Berry Blue Frozen ...</td>\n",
       "      <td>...</td>\n",
       "      <td>1.3</td>\n",
       "      <td>8.0</td>\n",
       "      <td>29.8</td>\n",
       "      <td>37.1</td>\n",
       "      <td>3.6</td>\n",
       "      <td>30.2</td>\n",
       "      <td>3.2</td>\n",
       "      <td>4.0</td>\n",
       "      <td>NaN</td>\n",
       "      <td>c(\"Toss 2 cups berries with sugar.\", \"Let stan...</td>\n",
       "    </tr>\n",
       "    <tr>\n",
       "      <th>1</th>\n",
       "      <td>1</td>\n",
       "      <td>39</td>\n",
       "      <td>Biryani</td>\n",
       "      <td>1567</td>\n",
       "      <td>elly9812</td>\n",
       "      <td>PT25M</td>\n",
       "      <td>PT4H</td>\n",
       "      <td>PT4H25M</td>\n",
       "      <td>1999-08-29T13:12:00Z</td>\n",
       "      <td>Make and share this Biryani recipe from Food.com.</td>\n",
       "      <td>...</td>\n",
       "      <td>16.6</td>\n",
       "      <td>372.8</td>\n",
       "      <td>368.4</td>\n",
       "      <td>84.4</td>\n",
       "      <td>9.0</td>\n",
       "      <td>20.4</td>\n",
       "      <td>63.4</td>\n",
       "      <td>6.0</td>\n",
       "      <td>NaN</td>\n",
       "      <td>c(\"Soak saffron in warm milk for 5 minutes and...</td>\n",
       "    </tr>\n",
       "  </tbody>\n",
       "</table>\n",
       "<p>2 rows × 29 columns</p>\n",
       "</div>"
      ],
      "text/plain": [
       "   Unnamed: 0  RecipeId                               Name  AuthorId  \\\n",
       "0           0        38  Low-Fat Berry Blue Frozen Dessert      1533   \n",
       "1           1        39                            Biryani      1567   \n",
       "\n",
       "  AuthorName CookTime PrepTime TotalTime         DatePublished  \\\n",
       "0     Dancer    PT24H    PT45M  PT24H45M  1999-08-09T21:46:00Z   \n",
       "1   elly9812    PT25M     PT4H   PT4H25M  1999-08-29T13:12:00Z   \n",
       "\n",
       "                                         Description  ... SaturatedFatContent  \\\n",
       "0  Make and share this Low-Fat Berry Blue Frozen ...  ...                 1.3   \n",
       "1  Make and share this Biryani recipe from Food.com.  ...                16.6   \n",
       "\n",
       "  CholesterolContent SodiumContent CarbohydrateContent FiberContent  \\\n",
       "0                8.0          29.8                37.1          3.6   \n",
       "1              372.8         368.4                84.4          9.0   \n",
       "\n",
       "   SugarContent  ProteinContent  RecipeServings  RecipeYield  \\\n",
       "0          30.2             3.2             4.0          NaN   \n",
       "1          20.4            63.4             6.0          NaN   \n",
       "\n",
       "                                  RecipeInstructions  \n",
       "0  c(\"Toss 2 cups berries with sugar.\", \"Let stan...  \n",
       "1  c(\"Soak saffron in warm milk for 5 minutes and...  \n",
       "\n",
       "[2 rows x 29 columns]"
      ]
     },
     "execution_count": 3,
     "metadata": {},
     "output_type": "execute_result"
    }
   ],
   "source": [
    "recipes_df.head(2)"
   ]
  },
  {
   "cell_type": "markdown",
   "metadata": {},
   "source": [
    "### Columns to Drop "
   ]
  },
  {
   "cell_type": "code",
   "execution_count": 4,
   "metadata": {},
   "outputs": [],
   "source": [
    "recipes_df = recipes_df.drop(columns = ['AuthorId',\n",
    "                                  'AuthorName',\n",
    "                                  'DatePublished',\n",
    "                                   'Description',\n",
    "                                  'Images',\n",
    "                                       'Unnamed: 0'])"
   ]
  },
  {
   "cell_type": "code",
   "execution_count": 5,
   "metadata": {},
   "outputs": [],
   "source": [
    "recipes_df = recipes_df.drop(columns = ['RecipeYield'])"
   ]
  },
  {
   "cell_type": "markdown",
   "metadata": {},
   "source": [
    "### Drop columns with missing values"
   ]
  },
  {
   "cell_type": "code",
   "execution_count": 6,
   "metadata": {},
   "outputs": [],
   "source": [
    "recipe_clean_df = recipes_df.dropna(how='any',axis=0) "
   ]
  },
  {
   "cell_type": "code",
   "execution_count": 7,
   "metadata": {},
   "outputs": [],
   "source": [
    "recipe_clean_df = recipe_clean_df.reset_index()"
   ]
  },
  {
   "cell_type": "code",
   "execution_count": 8,
   "metadata": {},
   "outputs": [],
   "source": [
    "#recipe_clean_df.to_csv('data/clean_recipes.csv')"
   ]
  },
  {
   "cell_type": "markdown",
   "metadata": {},
   "source": [
    "## Prep Time and Cook Time into floats"
   ]
  },
  {
   "cell_type": "code",
   "execution_count": 9,
   "metadata": {},
   "outputs": [],
   "source": [
    "# remove the string character \n",
    "recipe_clean_df['CookTime'] = recipe_clean_df['CookTime'].str.replace(r'PT', '')\n",
    "recipe_clean_df['PrepTime'] = recipe_clean_df['PrepTime'].str.replace(r'PT', '')\n",
    "recipe_clean_df['TotalTime'] = recipe_clean_df['TotalTime'].str.replace(r'PT', '')"
   ]
  },
  {
   "cell_type": "code",
   "execution_count": 10,
   "metadata": {},
   "outputs": [],
   "source": [
    "# Convert to date time\n",
    "recipe_clean_df['CookTime'] = recipe_clean_df['CookTime'].str.replace(r'M', '')\n",
    "recipe_clean_df['PrepTime'] = recipe_clean_df['PrepTime'].str.replace(r'M', '')\n",
    "recipe_clean_df['TotalTime'] = recipe_clean_df['TotalTime'].str.replace(r'M', '')"
   ]
  },
  {
   "cell_type": "markdown",
   "metadata": {},
   "source": [
    "### Function to convert string time to minutes"
   ]
  },
  {
   "cell_type": "code",
   "execution_count": 11,
   "metadata": {},
   "outputs": [],
   "source": [
    "def time_converter(column):\n",
    "    for count, value in enumerate(recipe_clean_df[f'{column}']):\n",
    "        if type(value) == str:\n",
    "            for count2, item in enumerate(value):\n",
    "                if item == 'H':\n",
    "                    if value[-1:]  in 'H':\n",
    "                        recipe_clean_df[f'{column}'][count] = float(recipe_clean_df[f'{column}'][count][:value.index(item)]) * 60\n",
    "                    else:\n",
    "                        recipe_clean_df[f'{column}'][count] = float(recipe_clean_df[f'{column}'][count][:value.index(item)]) * 60 + (float(recipe_clean_df[f'{column}'][count][value.index(item)+1:]))\n",
    "                        \n",
    "                elif item == 'S':\n",
    "                    recipe_clean_df[f'{column}'][count] = 0"
   ]
  },
  {
   "cell_type": "code",
   "execution_count": 12,
   "metadata": {},
   "outputs": [],
   "source": [
    "time_converter('TotalTime')\n",
    "time_converter('PrepTime')\n",
    "time_converter('CookTime')"
   ]
  },
  {
   "cell_type": "code",
   "execution_count": 13,
   "metadata": {},
   "outputs": [],
   "source": [
    "recipe_clean_df['TotalTime'] = recipe_clean_df['TotalTime'].astype(str).astype(float)\n",
    "recipe_clean_df['PrepTime'] = recipe_clean_df['PrepTime'].astype(str).astype(float)\n",
    "recipe_clean_df['CookTime'] = recipe_clean_df['CookTime'].astype(str).astype(float)"
   ]
  },
  {
   "cell_type": "code",
   "execution_count": 14,
   "metadata": {},
   "outputs": [
    {
     "data": {
      "text/html": [
       "<div>\n",
       "<style scoped>\n",
       "    .dataframe tbody tr th:only-of-type {\n",
       "        vertical-align: middle;\n",
       "    }\n",
       "\n",
       "    .dataframe tbody tr th {\n",
       "        vertical-align: top;\n",
       "    }\n",
       "\n",
       "    .dataframe thead th {\n",
       "        text-align: right;\n",
       "    }\n",
       "</style>\n",
       "<table border=\"1\" class=\"dataframe\">\n",
       "  <thead>\n",
       "    <tr style=\"text-align: right;\">\n",
       "      <th></th>\n",
       "      <th>index</th>\n",
       "      <th>RecipeId</th>\n",
       "      <th>Name</th>\n",
       "      <th>CookTime</th>\n",
       "      <th>PrepTime</th>\n",
       "      <th>TotalTime</th>\n",
       "      <th>RecipeCategory</th>\n",
       "      <th>Keywords</th>\n",
       "      <th>RecipeIngredientQuantities</th>\n",
       "      <th>RecipeIngredientParts</th>\n",
       "      <th>...</th>\n",
       "      <th>FatContent</th>\n",
       "      <th>SaturatedFatContent</th>\n",
       "      <th>CholesterolContent</th>\n",
       "      <th>SodiumContent</th>\n",
       "      <th>CarbohydrateContent</th>\n",
       "      <th>FiberContent</th>\n",
       "      <th>SugarContent</th>\n",
       "      <th>ProteinContent</th>\n",
       "      <th>RecipeServings</th>\n",
       "      <th>RecipeInstructions</th>\n",
       "    </tr>\n",
       "  </thead>\n",
       "  <tbody>\n",
       "    <tr>\n",
       "      <th>0</th>\n",
       "      <td>0</td>\n",
       "      <td>38</td>\n",
       "      <td>Low-Fat Berry Blue Frozen Dessert</td>\n",
       "      <td>1440.0</td>\n",
       "      <td>45.0</td>\n",
       "      <td>1485.0</td>\n",
       "      <td>Frozen Desserts</td>\n",
       "      <td>c(\"Dessert\", \"Low Protein\", \"Low Cholesterol\",...</td>\n",
       "      <td>c(\"4\", \"1/4\", \"1\", \"1\")</td>\n",
       "      <td>c(\"blueberries\", \"granulated sugar\", \"vanilla ...</td>\n",
       "      <td>...</td>\n",
       "      <td>2.5</td>\n",
       "      <td>1.3</td>\n",
       "      <td>8.0</td>\n",
       "      <td>29.8</td>\n",
       "      <td>37.1</td>\n",
       "      <td>3.6</td>\n",
       "      <td>30.2</td>\n",
       "      <td>3.2</td>\n",
       "      <td>4.0</td>\n",
       "      <td>c(\"Toss 2 cups berries with sugar.\", \"Let stan...</td>\n",
       "    </tr>\n",
       "    <tr>\n",
       "      <th>1</th>\n",
       "      <td>1</td>\n",
       "      <td>39</td>\n",
       "      <td>Biryani</td>\n",
       "      <td>25.0</td>\n",
       "      <td>240.0</td>\n",
       "      <td>265.0</td>\n",
       "      <td>Chicken Breast</td>\n",
       "      <td>c(\"Chicken Thigh &amp; Leg\", \"Chicken\", \"Poultry\",...</td>\n",
       "      <td>c(\"1\", \"4\", \"2\", \"2\", \"8\", \"1/4\", \"8\", \"1/2\", ...</td>\n",
       "      <td>c(\"saffron\", \"milk\", \"hot green chili peppers\"...</td>\n",
       "      <td>...</td>\n",
       "      <td>58.8</td>\n",
       "      <td>16.6</td>\n",
       "      <td>372.8</td>\n",
       "      <td>368.4</td>\n",
       "      <td>84.4</td>\n",
       "      <td>9.0</td>\n",
       "      <td>20.4</td>\n",
       "      <td>63.4</td>\n",
       "      <td>6.0</td>\n",
       "      <td>c(\"Soak saffron in warm milk for 5 minutes and...</td>\n",
       "    </tr>\n",
       "    <tr>\n",
       "      <th>2</th>\n",
       "      <td>2</td>\n",
       "      <td>40</td>\n",
       "      <td>Best Lemonade</td>\n",
       "      <td>5.0</td>\n",
       "      <td>30.0</td>\n",
       "      <td>35.0</td>\n",
       "      <td>Beverages</td>\n",
       "      <td>c(\"Low Protein\", \"Low Cholesterol\", \"Healthy\",...</td>\n",
       "      <td>c(\"1 1/2\", \"1\", NA, \"1 1/2\", NA, \"3/4\")</td>\n",
       "      <td>c(\"sugar\", \"lemons, rind of\", \"lemon, zest of\"...</td>\n",
       "      <td>...</td>\n",
       "      <td>0.2</td>\n",
       "      <td>0.0</td>\n",
       "      <td>0.0</td>\n",
       "      <td>1.8</td>\n",
       "      <td>81.5</td>\n",
       "      <td>0.4</td>\n",
       "      <td>77.2</td>\n",
       "      <td>0.3</td>\n",
       "      <td>4.0</td>\n",
       "      <td>c(\"Into a 1 quart Jar with tight fitting lid, ...</td>\n",
       "    </tr>\n",
       "    <tr>\n",
       "      <th>3</th>\n",
       "      <td>3</td>\n",
       "      <td>41</td>\n",
       "      <td>Carina's Tofu-Vegetable Kebabs</td>\n",
       "      <td>20.0</td>\n",
       "      <td>1440.0</td>\n",
       "      <td>1460.0</td>\n",
       "      <td>Soy/Tofu</td>\n",
       "      <td>c(\"Beans\", \"Vegetable\", \"Low Cholesterol\", \"We...</td>\n",
       "      <td>c(\"12\", \"1\", \"2\", \"1\", \"10\", \"1\", \"3\", \"2\", \"2...</td>\n",
       "      <td>c(\"extra firm tofu\", \"eggplant\", \"zucchini\", \"...</td>\n",
       "      <td>...</td>\n",
       "      <td>24.0</td>\n",
       "      <td>3.8</td>\n",
       "      <td>0.0</td>\n",
       "      <td>1558.6</td>\n",
       "      <td>64.2</td>\n",
       "      <td>17.3</td>\n",
       "      <td>32.1</td>\n",
       "      <td>29.3</td>\n",
       "      <td>2.0</td>\n",
       "      <td>c(\"Drain the tofu, carefully squeezing out exc...</td>\n",
       "    </tr>\n",
       "    <tr>\n",
       "      <th>4</th>\n",
       "      <td>4</td>\n",
       "      <td>42</td>\n",
       "      <td>Cabbage Soup</td>\n",
       "      <td>30.0</td>\n",
       "      <td>20.0</td>\n",
       "      <td>50.0</td>\n",
       "      <td>Vegetable</td>\n",
       "      <td>c(\"Low Protein\", \"Vegan\", \"Low Cholesterol\", \"...</td>\n",
       "      <td>c(\"46\", \"4\", \"1\", \"2\", \"1\")</td>\n",
       "      <td>c(\"plain tomato juice\", \"cabbage\", \"onion\", \"c...</td>\n",
       "      <td>...</td>\n",
       "      <td>0.4</td>\n",
       "      <td>0.1</td>\n",
       "      <td>0.0</td>\n",
       "      <td>959.3</td>\n",
       "      <td>25.1</td>\n",
       "      <td>4.8</td>\n",
       "      <td>17.7</td>\n",
       "      <td>4.3</td>\n",
       "      <td>4.0</td>\n",
       "      <td>c(\"Mix everything together and bring to a boil...</td>\n",
       "    </tr>\n",
       "    <tr>\n",
       "      <th>...</th>\n",
       "      <td>...</td>\n",
       "      <td>...</td>\n",
       "      <td>...</td>\n",
       "      <td>...</td>\n",
       "      <td>...</td>\n",
       "      <td>...</td>\n",
       "      <td>...</td>\n",
       "      <td>...</td>\n",
       "      <td>...</td>\n",
       "      <td>...</td>\n",
       "      <td>...</td>\n",
       "      <td>...</td>\n",
       "      <td>...</td>\n",
       "      <td>...</td>\n",
       "      <td>...</td>\n",
       "      <td>...</td>\n",
       "      <td>...</td>\n",
       "      <td>...</td>\n",
       "      <td>...</td>\n",
       "      <td>...</td>\n",
       "      <td>...</td>\n",
       "    </tr>\n",
       "    <tr>\n",
       "      <th>22461</th>\n",
       "      <td>59988</td>\n",
       "      <td>64339</td>\n",
       "      <td>Rellenos Jaibas</td>\n",
       "      <td>3.0</td>\n",
       "      <td>15.0</td>\n",
       "      <td>18.0</td>\n",
       "      <td>Crab</td>\n",
       "      <td>c(\"Mexican\", \"Spicy\", \"&lt; 30 Mins\", \"Stove Top\")</td>\n",
       "      <td>c(\"1/2\", \"4\", \"1\", \"1/4\", \"4\", \"2\", \"1/4\", \"3\"...</td>\n",
       "      <td>c(\"asparagus spears\", \"fresh tomato\", \"ricotta...</td>\n",
       "      <td>...</td>\n",
       "      <td>29.7</td>\n",
       "      <td>7.0</td>\n",
       "      <td>227.2</td>\n",
       "      <td>115.8</td>\n",
       "      <td>25.4</td>\n",
       "      <td>3.1</td>\n",
       "      <td>7.1</td>\n",
       "      <td>14.4</td>\n",
       "      <td>2.0</td>\n",
       "      <td>c(\"Remove stems from chilies, make a long slit...</td>\n",
       "    </tr>\n",
       "    <tr>\n",
       "      <th>22462</th>\n",
       "      <td>59989</td>\n",
       "      <td>64340</td>\n",
       "      <td>Great Canadian Butter Tarts</td>\n",
       "      <td>25.0</td>\n",
       "      <td>30.0</td>\n",
       "      <td>55.0</td>\n",
       "      <td>Dessert</td>\n",
       "      <td>c(\"Canadian\", \"&lt; 60 Mins\", \"For Large Groups\",...</td>\n",
       "      <td>c(\"16\", \"2\", \"1\", \"1\", \"1/4\", \"1\", \"1\", \"2\")</td>\n",
       "      <td>c(\"eggs\", \"seedless raisin\", \"brown sugar\", \"m...</td>\n",
       "      <td>...</td>\n",
       "      <td>3.7</td>\n",
       "      <td>0.8</td>\n",
       "      <td>27.1</td>\n",
       "      <td>48.6</td>\n",
       "      <td>20.7</td>\n",
       "      <td>0.3</td>\n",
       "      <td>18.7</td>\n",
       "      <td>1.1</td>\n",
       "      <td>16.0</td>\n",
       "      <td>c(\"Preheat oven to 350 degrees F.\", \"Place she...</td>\n",
       "    </tr>\n",
       "    <tr>\n",
       "      <th>22463</th>\n",
       "      <td>59990</td>\n",
       "      <td>64341</td>\n",
       "      <td>Party Time Bruschetta</td>\n",
       "      <td>6.0</td>\n",
       "      <td>20.0</td>\n",
       "      <td>26.0</td>\n",
       "      <td>Vegetable</td>\n",
       "      <td>c(\"Canadian\", \"Broil/Grill\", \"&lt; 30 Mins\", \"Oven\")</td>\n",
       "      <td>c(\"4\", \"1\", \"2\", \"1/4\", \"1/4\", \"1\", NA, NA, NA)</td>\n",
       "      <td>c(\"fresh tomato\", \"fresh basil\", \"salt\", \"fres...</td>\n",
       "      <td>...</td>\n",
       "      <td>0.3</td>\n",
       "      <td>0.1</td>\n",
       "      <td>0.0</td>\n",
       "      <td>106.0</td>\n",
       "      <td>4.9</td>\n",
       "      <td>0.4</td>\n",
       "      <td>0.8</td>\n",
       "      <td>0.8</td>\n",
       "      <td>12.0</td>\n",
       "      <td>c(\"Preheat BBQ to medium.\", \"Grill 4 slices of...</td>\n",
       "    </tr>\n",
       "    <tr>\n",
       "      <th>22464</th>\n",
       "      <td>59991</td>\n",
       "      <td>64342</td>\n",
       "      <td>Portabella Mushroom Burgers</td>\n",
       "      <td>10.0</td>\n",
       "      <td>10.0</td>\n",
       "      <td>20.0</td>\n",
       "      <td>Vegetable</td>\n",
       "      <td>c(\"Canadian\", \"Summer\", \"Broil/Grill\", \"&lt; 30 M...</td>\n",
       "      <td>c(\"4\", NA, NA, NA, \"1\", NA, NA, NA)</td>\n",
       "      <td>c(\"portabella mushrooms\", \"asiago cheese\", \"pe...</td>\n",
       "      <td>...</td>\n",
       "      <td>0.2</td>\n",
       "      <td>0.0</td>\n",
       "      <td>0.0</td>\n",
       "      <td>5.0</td>\n",
       "      <td>4.3</td>\n",
       "      <td>1.3</td>\n",
       "      <td>1.5</td>\n",
       "      <td>2.1</td>\n",
       "      <td>4.0</td>\n",
       "      <td>c(\"Preheat BBQ to medium-high.\", \"Brush mushro...</td>\n",
       "    </tr>\n",
       "    <tr>\n",
       "      <th>22465</th>\n",
       "      <td>59992</td>\n",
       "      <td>64343</td>\n",
       "      <td>Grandma Knorberg's Pork Chops Casserole</td>\n",
       "      <td>60.0</td>\n",
       "      <td>20.0</td>\n",
       "      <td>80.0</td>\n",
       "      <td>Pork</td>\n",
       "      <td>c(\"Meat\", \"Canadian\", \"Weeknight\", \"Oven\", \"&lt; ...</td>\n",
       "      <td>c(\"6\", \"1\", \"1/2\", \"1\", \"1/2\", \"1\", NA)</td>\n",
       "      <td>c(\"water\", \"carrot\", \"celery\", \"sage\")</td>\n",
       "      <td>...</td>\n",
       "      <td>21.4</td>\n",
       "      <td>7.4</td>\n",
       "      <td>112.6</td>\n",
       "      <td>130.5</td>\n",
       "      <td>3.0</td>\n",
       "      <td>1.0</td>\n",
       "      <td>1.5</td>\n",
       "      <td>34.1</td>\n",
       "      <td>4.0</td>\n",
       "      <td>c(\"Place pork chops in 9x13 pan.\", \"Sprinkle w...</td>\n",
       "    </tr>\n",
       "  </tbody>\n",
       "</table>\n",
       "<p>22466 rows × 23 columns</p>\n",
       "</div>"
      ],
      "text/plain": [
       "       index  RecipeId                                     Name  CookTime  \\\n",
       "0          0        38        Low-Fat Berry Blue Frozen Dessert    1440.0   \n",
       "1          1        39                                  Biryani      25.0   \n",
       "2          2        40                            Best Lemonade       5.0   \n",
       "3          3        41           Carina's Tofu-Vegetable Kebabs      20.0   \n",
       "4          4        42                             Cabbage Soup      30.0   \n",
       "...      ...       ...                                      ...       ...   \n",
       "22461  59988     64339                          Rellenos Jaibas       3.0   \n",
       "22462  59989     64340              Great Canadian Butter Tarts      25.0   \n",
       "22463  59990     64341                    Party Time Bruschetta       6.0   \n",
       "22464  59991     64342              Portabella Mushroom Burgers      10.0   \n",
       "22465  59992     64343  Grandma Knorberg's Pork Chops Casserole      60.0   \n",
       "\n",
       "       PrepTime  TotalTime   RecipeCategory  \\\n",
       "0          45.0     1485.0  Frozen Desserts   \n",
       "1         240.0      265.0   Chicken Breast   \n",
       "2          30.0       35.0        Beverages   \n",
       "3        1440.0     1460.0         Soy/Tofu   \n",
       "4          20.0       50.0        Vegetable   \n",
       "...         ...        ...              ...   \n",
       "22461      15.0       18.0             Crab   \n",
       "22462      30.0       55.0          Dessert   \n",
       "22463      20.0       26.0        Vegetable   \n",
       "22464      10.0       20.0        Vegetable   \n",
       "22465      20.0       80.0             Pork   \n",
       "\n",
       "                                                Keywords  \\\n",
       "0      c(\"Dessert\", \"Low Protein\", \"Low Cholesterol\",...   \n",
       "1      c(\"Chicken Thigh & Leg\", \"Chicken\", \"Poultry\",...   \n",
       "2      c(\"Low Protein\", \"Low Cholesterol\", \"Healthy\",...   \n",
       "3      c(\"Beans\", \"Vegetable\", \"Low Cholesterol\", \"We...   \n",
       "4      c(\"Low Protein\", \"Vegan\", \"Low Cholesterol\", \"...   \n",
       "...                                                  ...   \n",
       "22461    c(\"Mexican\", \"Spicy\", \"< 30 Mins\", \"Stove Top\")   \n",
       "22462  c(\"Canadian\", \"< 60 Mins\", \"For Large Groups\",...   \n",
       "22463  c(\"Canadian\", \"Broil/Grill\", \"< 30 Mins\", \"Oven\")   \n",
       "22464  c(\"Canadian\", \"Summer\", \"Broil/Grill\", \"< 30 M...   \n",
       "22465  c(\"Meat\", \"Canadian\", \"Weeknight\", \"Oven\", \"< ...   \n",
       "\n",
       "                              RecipeIngredientQuantities  \\\n",
       "0                                c(\"4\", \"1/4\", \"1\", \"1\")   \n",
       "1      c(\"1\", \"4\", \"2\", \"2\", \"8\", \"1/4\", \"8\", \"1/2\", ...   \n",
       "2                c(\"1 1/2\", \"1\", NA, \"1 1/2\", NA, \"3/4\")   \n",
       "3      c(\"12\", \"1\", \"2\", \"1\", \"10\", \"1\", \"3\", \"2\", \"2...   \n",
       "4                            c(\"46\", \"4\", \"1\", \"2\", \"1\")   \n",
       "...                                                  ...   \n",
       "22461  c(\"1/2\", \"4\", \"1\", \"1/4\", \"4\", \"2\", \"1/4\", \"3\"...   \n",
       "22462       c(\"16\", \"2\", \"1\", \"1\", \"1/4\", \"1\", \"1\", \"2\")   \n",
       "22463    c(\"4\", \"1\", \"2\", \"1/4\", \"1/4\", \"1\", NA, NA, NA)   \n",
       "22464                c(\"4\", NA, NA, NA, \"1\", NA, NA, NA)   \n",
       "22465            c(\"6\", \"1\", \"1/2\", \"1\", \"1/2\", \"1\", NA)   \n",
       "\n",
       "                                   RecipeIngredientParts  ...  FatContent  \\\n",
       "0      c(\"blueberries\", \"granulated sugar\", \"vanilla ...  ...         2.5   \n",
       "1      c(\"saffron\", \"milk\", \"hot green chili peppers\"...  ...        58.8   \n",
       "2      c(\"sugar\", \"lemons, rind of\", \"lemon, zest of\"...  ...         0.2   \n",
       "3      c(\"extra firm tofu\", \"eggplant\", \"zucchini\", \"...  ...        24.0   \n",
       "4      c(\"plain tomato juice\", \"cabbage\", \"onion\", \"c...  ...         0.4   \n",
       "...                                                  ...  ...         ...   \n",
       "22461  c(\"asparagus spears\", \"fresh tomato\", \"ricotta...  ...        29.7   \n",
       "22462  c(\"eggs\", \"seedless raisin\", \"brown sugar\", \"m...  ...         3.7   \n",
       "22463  c(\"fresh tomato\", \"fresh basil\", \"salt\", \"fres...  ...         0.3   \n",
       "22464  c(\"portabella mushrooms\", \"asiago cheese\", \"pe...  ...         0.2   \n",
       "22465             c(\"water\", \"carrot\", \"celery\", \"sage\")  ...        21.4   \n",
       "\n",
       "       SaturatedFatContent  CholesterolContent  SodiumContent  \\\n",
       "0                      1.3                 8.0           29.8   \n",
       "1                     16.6               372.8          368.4   \n",
       "2                      0.0                 0.0            1.8   \n",
       "3                      3.8                 0.0         1558.6   \n",
       "4                      0.1                 0.0          959.3   \n",
       "...                    ...                 ...            ...   \n",
       "22461                  7.0               227.2          115.8   \n",
       "22462                  0.8                27.1           48.6   \n",
       "22463                  0.1                 0.0          106.0   \n",
       "22464                  0.0                 0.0            5.0   \n",
       "22465                  7.4               112.6          130.5   \n",
       "\n",
       "       CarbohydrateContent  FiberContent  SugarContent  ProteinContent  \\\n",
       "0                     37.1           3.6          30.2             3.2   \n",
       "1                     84.4           9.0          20.4            63.4   \n",
       "2                     81.5           0.4          77.2             0.3   \n",
       "3                     64.2          17.3          32.1            29.3   \n",
       "4                     25.1           4.8          17.7             4.3   \n",
       "...                    ...           ...           ...             ...   \n",
       "22461                 25.4           3.1           7.1            14.4   \n",
       "22462                 20.7           0.3          18.7             1.1   \n",
       "22463                  4.9           0.4           0.8             0.8   \n",
       "22464                  4.3           1.3           1.5             2.1   \n",
       "22465                  3.0           1.0           1.5            34.1   \n",
       "\n",
       "       RecipeServings                                 RecipeInstructions  \n",
       "0                 4.0  c(\"Toss 2 cups berries with sugar.\", \"Let stan...  \n",
       "1                 6.0  c(\"Soak saffron in warm milk for 5 minutes and...  \n",
       "2                 4.0  c(\"Into a 1 quart Jar with tight fitting lid, ...  \n",
       "3                 2.0  c(\"Drain the tofu, carefully squeezing out exc...  \n",
       "4                 4.0  c(\"Mix everything together and bring to a boil...  \n",
       "...               ...                                                ...  \n",
       "22461             2.0  c(\"Remove stems from chilies, make a long slit...  \n",
       "22462            16.0  c(\"Preheat oven to 350 degrees F.\", \"Place she...  \n",
       "22463            12.0  c(\"Preheat BBQ to medium.\", \"Grill 4 slices of...  \n",
       "22464             4.0  c(\"Preheat BBQ to medium-high.\", \"Brush mushro...  \n",
       "22465             4.0  c(\"Place pork chops in 9x13 pan.\", \"Sprinkle w...  \n",
       "\n",
       "[22466 rows x 23 columns]"
      ]
     },
     "execution_count": 14,
     "metadata": {},
     "output_type": "execute_result"
    }
   ],
   "source": [
    "recipe_clean_df[recipe_clean_df['TotalTime'].apply(lambda x: isinstance(x, float))]"
   ]
  },
  {
   "cell_type": "markdown",
   "metadata": {},
   "source": [
    "### Write to CSV"
   ]
  },
  {
   "cell_type": "code",
   "execution_count": 15,
   "metadata": {},
   "outputs": [],
   "source": [
    "recipes10_df = recipe_clean_df[:10_000]\n",
    "recipes10_df = recipes10_df.loc[~recipes10_df.RecipeIngredientParts.str.contains(\"character\",  na=False)].reset_index()"
   ]
  },
  {
   "cell_type": "code",
   "execution_count": 16,
   "metadata": {},
   "outputs": [],
   "source": [
    "# recipe_df_1 = recipe_clean_df.copy()"
   ]
  },
  {
   "cell_type": "code",
   "execution_count": 17,
   "metadata": {},
   "outputs": [],
   "source": [
    "# recipe_clean_df.to_csv('./data/recipes141.csv', sep='\\t', encoding='utf-8')"
   ]
  },
  {
   "cell_type": "code",
   "execution_count": 18,
   "metadata": {},
   "outputs": [],
   "source": [
    "# recipes10_df = pd.read_csv('data/recipes10.csv', error_bad_lines=False, encoding='utf-8')"
   ]
  },
  {
   "cell_type": "code",
   "execution_count": 19,
   "metadata": {},
   "outputs": [],
   "source": [
    "# recipes10k.to_csv('./data/recipes10.csv', sep=',', encoding='utf-8')"
   ]
  },
  {
   "cell_type": "code",
   "execution_count": null,
   "metadata": {},
   "outputs": [],
   "source": []
  },
  {
   "cell_type": "markdown",
   "metadata": {},
   "source": [
    "### Change string to a list"
   ]
  },
  {
   "cell_type": "code",
   "execution_count": 20,
   "metadata": {},
   "outputs": [],
   "source": [
    "def list_convert(dataframe, column):\n",
    "    for count, value in enumerate(dataframe[f'{column}']):         \n",
    "        dataframe[f'{column}'][count] = dataframe[f'{column}'][count].replace('c(', '')\n",
    "        dataframe[f'{column}'][count] = dataframe[f'{column}'][count].replace(')', '')\n",
    "        dataframe[f'{column}'][count] = dataframe[f'{column}'][count].replace('0', '')\n",
    "        dataframe[f'{column}'][count] = dataframe[f'{column}'][count].replace('(', '')\n",
    "        dataframe[f'{column}'][count] = dataframe[f'{column}'][count].replace('\\n', '')\n",
    "        dataframe[f'{column}'][count] = ast.literal_eval(str(dataframe[f'{column}'][count]))"
   ]
  },
  {
   "cell_type": "code",
   "execution_count": 21,
   "metadata": {},
   "outputs": [],
   "source": [
    "list_convert(recipes10_df, 'Keywords')"
   ]
  },
  {
   "cell_type": "code",
   "execution_count": 22,
   "metadata": {},
   "outputs": [],
   "source": [
    "# list_convert(recipes10_df, 'RecipeIngredientQuantities')"
   ]
  },
  {
   "cell_type": "code",
   "execution_count": 23,
   "metadata": {},
   "outputs": [],
   "source": [
    "list_convert(recipes10_df, 'RecipeIngredientParts')"
   ]
  },
  {
   "cell_type": "code",
   "execution_count": 24,
   "metadata": {},
   "outputs": [],
   "source": [
    "list_convert(recipes10_df, 'RecipeInstructions')"
   ]
  },
  {
   "cell_type": "code",
   "execution_count": 25,
   "metadata": {},
   "outputs": [],
   "source": [
    "# recipes10_df = recipes10_df.drop(columns = ['Unnamed: 0', 'index', 'Unnamed: 0.1'])"
   ]
  },
  {
   "cell_type": "code",
   "execution_count": 26,
   "metadata": {},
   "outputs": [],
   "source": [
    "# recipes10_df.to_csv('./data/recipes10k_df.csv', sep=',', encoding='utf-8')"
   ]
  },
  {
   "cell_type": "markdown",
   "metadata": {},
   "source": [
    "#### No cook time over four hours"
   ]
  },
  {
   "cell_type": "code",
   "execution_count": 27,
   "metadata": {},
   "outputs": [],
   "source": [
    "recipes10_df = recipes10_df[(recipes10_df['CookTime'] <= 240) & (recipes10_df['TotalTime'] <= 480)]"
   ]
  },
  {
   "cell_type": "markdown",
   "metadata": {},
   "source": [
    "#### Check Data is in correct range "
   ]
  },
  {
   "cell_type": "code",
   "execution_count": 28,
   "metadata": {},
   "outputs": [],
   "source": [
    "recipes10_df = recipes10_df[(recipes10_df['RecipeServings'] > 0) & (recipes10_df['RecipeServings'] < 20)]"
   ]
  },
  {
   "cell_type": "markdown",
   "metadata": {},
   "source": [
    "#### Return recipes where Number of reviews is greater than 2"
   ]
  },
  {
   "cell_type": "code",
   "execution_count": 29,
   "metadata": {},
   "outputs": [],
   "source": [
    "recipes10_df = recipes10_df[recipes10_df['ReviewCount'] > 2]"
   ]
  },
  {
   "cell_type": "markdown",
   "metadata": {},
   "source": [
    "#### Create calories per serving column "
   ]
  },
  {
   "cell_type": "code",
   "execution_count": 30,
   "metadata": {},
   "outputs": [],
   "source": [
    "recipes10_df['calories_per_serving'] = recipes10_df['Calories']/recipes10_df['RecipeServings']"
   ]
  },
  {
   "cell_type": "code",
   "execution_count": 31,
   "metadata": {},
   "outputs": [],
   "source": [
    "recipes10_df = recipes10_df.drop(columns = ['level_0', 'RecipeId'])"
   ]
  },
  {
   "cell_type": "code",
   "execution_count": 32,
   "metadata": {},
   "outputs": [],
   "source": [
    "recipes10_df = recipes10_df.reset_index()"
   ]
  },
  {
   "cell_type": "markdown",
   "metadata": {},
   "source": [
    "#### Convert tuple to list"
   ]
  },
  {
   "cell_type": "code",
   "execution_count": 33,
   "metadata": {},
   "outputs": [],
   "source": [
    "def tuple_to_list(dataframe, column):\n",
    "    for count, value in enumerate(dataframe[f'{column}']):\n",
    "        dataframe[f'{column}'][count] = list(dataframe[f'{column}'][count])"
   ]
  },
  {
   "cell_type": "code",
   "execution_count": 34,
   "metadata": {},
   "outputs": [],
   "source": [
    "tuple_to_list(recipes10_df, 'RecipeIngredientParts')\n",
    "tuple_to_list(recipes10_df, 'Keywords')\n",
    "tuple_to_list(recipes10_df, 'RecipeInstructions')"
   ]
  },
  {
   "cell_type": "markdown",
   "metadata": {},
   "source": [
    "#### Write as a pickle"
   ]
  },
  {
   "cell_type": "code",
   "execution_count": 35,
   "metadata": {},
   "outputs": [],
   "source": [
    "# recipes10_df['RecipeIngredientParts'] = list(recipes10_df['RecipeIngredientParts'])\n",
    "# recipes10_df['Keywords'] = list(recipes10_df['Keywords'])\n",
    "# recipes10_df['RecipeInstructions'] = list(recipes10_df['RecipeInstructions'])"
   ]
  },
  {
   "cell_type": "code",
   "execution_count": 36,
   "metadata": {},
   "outputs": [],
   "source": [
    "# recipes10_df.to_csv('./data/recipes_clean_10k_df', index = False)"
   ]
  },
  {
   "cell_type": "code",
   "execution_count": 37,
   "metadata": {},
   "outputs": [],
   "source": [
    "# recipes10_df.to_pickle('./data/recipes_clean_10k.pkl')"
   ]
  },
  {
   "cell_type": "code",
   "execution_count": 38,
   "metadata": {},
   "outputs": [],
   "source": [
    "# with open('./data/recipes_clean_10k.pickle', 'wb') as f:\n",
    "#     pickle.dump(recipes10_df, f, 3)"
   ]
  },
  {
   "cell_type": "code",
   "execution_count": 39,
   "metadata": {},
   "outputs": [],
   "source": [
    "# pickle.dump(recipes10_df, open('./data/recipes_clean_10k', 'wb'))"
   ]
  },
  {
   "cell_type": "markdown",
   "metadata": {},
   "source": [
    "# Take different cuisines from original dataset"
   ]
  },
  {
   "cell_type": "code",
   "execution_count": 40,
   "metadata": {},
   "outputs": [],
   "source": [
    "big_recipes_df = pd.read_csv('./data/cuisine.csv')"
   ]
  },
  {
   "cell_type": "code",
   "execution_count": 41,
   "metadata": {},
   "outputs": [],
   "source": [
    "mylist = ['Indian', 'African', 'Chinese', 'Japanese', 'American',  'Thai', 'Italian']"
   ]
  },
  {
   "cell_type": "code",
   "execution_count": 42,
   "metadata": {},
   "outputs": [],
   "source": [
    "cuisine_df = big_recipes_df[big_recipes_df['RecipeCategory'].isin(mylist)]"
   ]
  },
  {
   "cell_type": "code",
   "execution_count": 43,
   "metadata": {},
   "outputs": [
    {
     "data": {
      "text/plain": [
       "Chinese     527\n",
       "Thai        438\n",
       "Japanese    327\n",
       "African     267\n",
       "Indian      241\n",
       "Name: RecipeCategory, dtype: int64"
      ]
     },
     "execution_count": 43,
     "metadata": {},
     "output_type": "execute_result"
    }
   ],
   "source": [
    "cuisine_df['RecipeCategory'].value_counts()"
   ]
  },
  {
   "cell_type": "code",
   "execution_count": 44,
   "metadata": {},
   "outputs": [
    {
     "ename": "ValueError",
     "evalue": "cannot insert level_0, already exists",
     "output_type": "error",
     "traceback": [
      "\u001b[0;31m---------------------------------------------------------------------------\u001b[0m",
      "\u001b[0;31mValueError\u001b[0m                                Traceback (most recent call last)",
      "\u001b[0;32m<ipython-input-44-f5ebfa069618>\u001b[0m in \u001b[0;36m<module>\u001b[0;34m\u001b[0m\n\u001b[0;32m----> 1\u001b[0;31m \u001b[0mcuisine_df2\u001b[0m \u001b[0;34m=\u001b[0m \u001b[0mcuisine_df\u001b[0m\u001b[0;34m.\u001b[0m\u001b[0mdrop\u001b[0m\u001b[0;34m(\u001b[0m\u001b[0mcuisine_df\u001b[0m\u001b[0;34m.\u001b[0m\u001b[0mindex\u001b[0m\u001b[0;34m[\u001b[0m\u001b[0;34m[\u001b[0m\u001b[0;36m55\u001b[0m\u001b[0;34m,\u001b[0m\u001b[0;36m56\u001b[0m\u001b[0;34m]\u001b[0m\u001b[0;34m]\u001b[0m\u001b[0;34m)\u001b[0m\u001b[0;34m.\u001b[0m\u001b[0mreset_index\u001b[0m\u001b[0;34m(\u001b[0m\u001b[0;34m)\u001b[0m\u001b[0;34m\u001b[0m\u001b[0;34m\u001b[0m\u001b[0m\n\u001b[0m",
      "\u001b[0;32m~/opt/anaconda3/lib/python3.7/site-packages/pandas/util/_decorators.py\u001b[0m in \u001b[0;36mwrapper\u001b[0;34m(*args, **kwargs)\u001b[0m\n\u001b[1;32m    309\u001b[0m                     \u001b[0mstacklevel\u001b[0m\u001b[0;34m=\u001b[0m\u001b[0mstacklevel\u001b[0m\u001b[0;34m,\u001b[0m\u001b[0;34m\u001b[0m\u001b[0;34m\u001b[0m\u001b[0m\n\u001b[1;32m    310\u001b[0m                 )\n\u001b[0;32m--> 311\u001b[0;31m             \u001b[0;32mreturn\u001b[0m \u001b[0mfunc\u001b[0m\u001b[0;34m(\u001b[0m\u001b[0;34m*\u001b[0m\u001b[0margs\u001b[0m\u001b[0;34m,\u001b[0m \u001b[0;34m**\u001b[0m\u001b[0mkwargs\u001b[0m\u001b[0;34m)\u001b[0m\u001b[0;34m\u001b[0m\u001b[0;34m\u001b[0m\u001b[0m\n\u001b[0m\u001b[1;32m    312\u001b[0m \u001b[0;34m\u001b[0m\u001b[0m\n\u001b[1;32m    313\u001b[0m         \u001b[0;32mreturn\u001b[0m \u001b[0mwrapper\u001b[0m\u001b[0;34m\u001b[0m\u001b[0;34m\u001b[0m\u001b[0m\n",
      "\u001b[0;32m~/opt/anaconda3/lib/python3.7/site-packages/pandas/core/frame.py\u001b[0m in \u001b[0;36mreset_index\u001b[0;34m(self, level, drop, inplace, col_level, col_fill)\u001b[0m\n\u001b[1;32m   5797\u001b[0m                     )\n\u001b[1;32m   5798\u001b[0m \u001b[0;34m\u001b[0m\u001b[0m\n\u001b[0;32m-> 5799\u001b[0;31m                 \u001b[0mnew_obj\u001b[0m\u001b[0;34m.\u001b[0m\u001b[0minsert\u001b[0m\u001b[0;34m(\u001b[0m\u001b[0;36m0\u001b[0m\u001b[0;34m,\u001b[0m \u001b[0mname\u001b[0m\u001b[0;34m,\u001b[0m \u001b[0mlevel_values\u001b[0m\u001b[0;34m)\u001b[0m\u001b[0;34m\u001b[0m\u001b[0;34m\u001b[0m\u001b[0m\n\u001b[0m\u001b[1;32m   5800\u001b[0m \u001b[0;34m\u001b[0m\u001b[0m\n\u001b[1;32m   5801\u001b[0m         \u001b[0mnew_obj\u001b[0m\u001b[0;34m.\u001b[0m\u001b[0mindex\u001b[0m \u001b[0;34m=\u001b[0m \u001b[0mnew_index\u001b[0m\u001b[0;34m\u001b[0m\u001b[0;34m\u001b[0m\u001b[0m\n",
      "\u001b[0;32m~/opt/anaconda3/lib/python3.7/site-packages/pandas/core/frame.py\u001b[0m in \u001b[0;36minsert\u001b[0;34m(self, loc, column, value, allow_duplicates)\u001b[0m\n\u001b[1;32m   4412\u001b[0m         \u001b[0;32mif\u001b[0m \u001b[0;32mnot\u001b[0m \u001b[0mallow_duplicates\u001b[0m \u001b[0;32mand\u001b[0m \u001b[0mcolumn\u001b[0m \u001b[0;32min\u001b[0m \u001b[0mself\u001b[0m\u001b[0;34m.\u001b[0m\u001b[0mcolumns\u001b[0m\u001b[0;34m:\u001b[0m\u001b[0;34m\u001b[0m\u001b[0;34m\u001b[0m\u001b[0m\n\u001b[1;32m   4413\u001b[0m             \u001b[0;31m# Should this be a different kind of error??\u001b[0m\u001b[0;34m\u001b[0m\u001b[0;34m\u001b[0m\u001b[0;34m\u001b[0m\u001b[0m\n\u001b[0;32m-> 4414\u001b[0;31m             \u001b[0;32mraise\u001b[0m \u001b[0mValueError\u001b[0m\u001b[0;34m(\u001b[0m\u001b[0;34mf\"cannot insert {column}, already exists\"\u001b[0m\u001b[0;34m)\u001b[0m\u001b[0;34m\u001b[0m\u001b[0;34m\u001b[0m\u001b[0m\n\u001b[0m\u001b[1;32m   4415\u001b[0m         \u001b[0;32mif\u001b[0m \u001b[0;32mnot\u001b[0m \u001b[0misinstance\u001b[0m\u001b[0;34m(\u001b[0m\u001b[0mloc\u001b[0m\u001b[0;34m,\u001b[0m \u001b[0mint\u001b[0m\u001b[0;34m)\u001b[0m\u001b[0;34m:\u001b[0m\u001b[0;34m\u001b[0m\u001b[0;34m\u001b[0m\u001b[0m\n\u001b[1;32m   4416\u001b[0m             \u001b[0;32mraise\u001b[0m \u001b[0mTypeError\u001b[0m\u001b[0;34m(\u001b[0m\u001b[0;34m\"loc must be int\"\u001b[0m\u001b[0;34m)\u001b[0m\u001b[0;34m\u001b[0m\u001b[0;34m\u001b[0m\u001b[0m\n",
      "\u001b[0;31mValueError\u001b[0m: cannot insert level_0, already exists"
     ]
    }
   ],
   "source": [
    "cuisine_df2 = cuisine_df.drop(cuisine_df.index[[55,56]]).reset_index()"
   ]
  },
  {
   "cell_type": "code",
   "execution_count": null,
   "metadata": {},
   "outputs": [],
   "source": [
    "# list_convert(cuisine_df2, 'RecipeIngredientParts')"
   ]
  },
  {
   "cell_type": "code",
   "execution_count": null,
   "metadata": {},
   "outputs": [],
   "source": [
    "hi = cuisine_df2[cuisine_df2['RecipeIngredientParts'].str.len() < 10]"
   ]
  },
  {
   "cell_type": "code",
   "execution_count": null,
   "metadata": {},
   "outputs": [],
   "source": [
    "cuisine_df2.to_csv('./data/cuisine.csv', index = False)"
   ]
  }
 ],
 "metadata": {
  "kernelspec": {
   "display_name": "Python 3",
   "language": "python",
   "name": "python3"
  },
  "language_info": {
   "codemirror_mode": {
    "name": "ipython",
    "version": 3
   },
   "file_extension": ".py",
   "mimetype": "text/x-python",
   "name": "python",
   "nbconvert_exporter": "python",
   "pygments_lexer": "ipython3",
   "version": "3.7.6"
  }
 },
 "nbformat": 4,
 "nbformat_minor": 4
}
