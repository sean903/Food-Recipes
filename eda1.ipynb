{
 "cells": [
  {
   "cell_type": "code",
   "execution_count": 1,
   "metadata": {},
   "outputs": [],
   "source": [
    "import pandas as pd \n",
    "import numpy as np\n",
    "import matplotlib.pyplot as plt\n",
    "import matplotlib.pyplot as plt\n",
    "import seaborn as sns\n",
    "\n",
    "plt.style.use('seaborn')"
   ]
  },
  {
   "cell_type": "code",
   "execution_count": 36,
   "metadata": {},
   "outputs": [],
   "source": [
    "recipes_df = pd.read_csv('./data/recipes5k_df.csv')"
   ]
  },
  {
   "cell_type": "code",
   "execution_count": 37,
   "metadata": {},
   "outputs": [
    {
     "name": "stdout",
     "output_type": "stream",
     "text": [
      "<class 'pandas.core.frame.DataFrame'>\n",
      "RangeIndex: 5482 entries, 0 to 5481\n",
      "Data columns (total 24 columns):\n",
      " #   Column                      Non-Null Count  Dtype  \n",
      "---  ------                      --------------  -----  \n",
      " 0   Unnamed: 0                  5482 non-null   int64  \n",
      " 1   RecipeId                    5482 non-null   int64  \n",
      " 2   Name                        5482 non-null   object \n",
      " 3   CookTime                    5482 non-null   float64\n",
      " 4   PrepTime                    5482 non-null   object \n",
      " 5   TotalTime                   5482 non-null   float64\n",
      " 6   RecipeCategory              5482 non-null   object \n",
      " 7   Keywords                    5482 non-null   object \n",
      " 8   RecipeIngredientQuantities  5482 non-null   object \n",
      " 9   RecipeIngredientParts       5482 non-null   object \n",
      " 10  AggregatedRating            5482 non-null   float64\n",
      " 11  ReviewCount                 5482 non-null   float64\n",
      " 12  Calories                    5482 non-null   float64\n",
      " 13  FatContent                  5482 non-null   float64\n",
      " 14  SaturatedFatContent         5482 non-null   float64\n",
      " 15  CholesterolContent          5482 non-null   float64\n",
      " 16  SodiumContent               5482 non-null   float64\n",
      " 17  CarbohydrateContent         5482 non-null   float64\n",
      " 18  FiberContent                5482 non-null   float64\n",
      " 19  SugarContent                5482 non-null   float64\n",
      " 20  ProteinContent              5482 non-null   float64\n",
      " 21  RecipeServings              5482 non-null   float64\n",
      " 22  RecipeInstructions          5482 non-null   object \n",
      " 23  calories_per_serving        5482 non-null   float64\n",
      "dtypes: float64(15), int64(2), object(7)\n",
      "memory usage: 1.0+ MB\n"
     ]
    }
   ],
   "source": [
    "recipes_df.info()"
   ]
  },
  {
   "cell_type": "code",
   "execution_count": 38,
   "metadata": {},
   "outputs": [
    {
     "data": {
      "text/html": [
       "<div>\n",
       "<style scoped>\n",
       "    .dataframe tbody tr th:only-of-type {\n",
       "        vertical-align: middle;\n",
       "    }\n",
       "\n",
       "    .dataframe tbody tr th {\n",
       "        vertical-align: top;\n",
       "    }\n",
       "\n",
       "    .dataframe thead th {\n",
       "        text-align: right;\n",
       "    }\n",
       "</style>\n",
       "<table border=\"1\" class=\"dataframe\">\n",
       "  <thead>\n",
       "    <tr style=\"text-align: right;\">\n",
       "      <th></th>\n",
       "      <th>Unnamed: 0</th>\n",
       "      <th>RecipeId</th>\n",
       "      <th>CookTime</th>\n",
       "      <th>TotalTime</th>\n",
       "      <th>AggregatedRating</th>\n",
       "      <th>ReviewCount</th>\n",
       "      <th>Calories</th>\n",
       "      <th>FatContent</th>\n",
       "      <th>SaturatedFatContent</th>\n",
       "      <th>CholesterolContent</th>\n",
       "      <th>SodiumContent</th>\n",
       "      <th>CarbohydrateContent</th>\n",
       "      <th>FiberContent</th>\n",
       "      <th>SugarContent</th>\n",
       "      <th>ProteinContent</th>\n",
       "      <th>RecipeServings</th>\n",
       "      <th>calories_per_serving</th>\n",
       "    </tr>\n",
       "  </thead>\n",
       "  <tbody>\n",
       "    <tr>\n",
       "      <th>count</th>\n",
       "      <td>5482.000000</td>\n",
       "      <td>5482.000000</td>\n",
       "      <td>5482.000000</td>\n",
       "      <td>5482.000000</td>\n",
       "      <td>5482.000000</td>\n",
       "      <td>5482.000000</td>\n",
       "      <td>5482.000000</td>\n",
       "      <td>5482.000000</td>\n",
       "      <td>5482.000000</td>\n",
       "      <td>5482.000000</td>\n",
       "      <td>5482.000000</td>\n",
       "      <td>5482.000000</td>\n",
       "      <td>5482.000000</td>\n",
       "      <td>5482.000000</td>\n",
       "      <td>5482.000000</td>\n",
       "      <td>5482.000000</td>\n",
       "      <td>5482.00000</td>\n",
       "    </tr>\n",
       "    <tr>\n",
       "      <th>mean</th>\n",
       "      <td>2740.500000</td>\n",
       "      <td>16729.138088</td>\n",
       "      <td>38.107078</td>\n",
       "      <td>55.372309</td>\n",
       "      <td>4.712879</td>\n",
       "      <td>17.560744</td>\n",
       "      <td>362.612842</td>\n",
       "      <td>18.259905</td>\n",
       "      <td>7.229515</td>\n",
       "      <td>75.856895</td>\n",
       "      <td>539.072765</td>\n",
       "      <td>33.220522</td>\n",
       "      <td>2.904068</td>\n",
       "      <td>11.738234</td>\n",
       "      <td>16.733400</td>\n",
       "      <td>6.485589</td>\n",
       "      <td>74.47417</td>\n",
       "    </tr>\n",
       "    <tr>\n",
       "      <th>std</th>\n",
       "      <td>1582.661419</td>\n",
       "      <td>7442.119866</td>\n",
       "      <td>37.639501</td>\n",
       "      <td>44.897538</td>\n",
       "      <td>0.441335</td>\n",
       "      <td>48.978484</td>\n",
       "      <td>243.724526</td>\n",
       "      <td>17.620314</td>\n",
       "      <td>7.686108</td>\n",
       "      <td>84.592176</td>\n",
       "      <td>590.814772</td>\n",
       "      <td>27.692891</td>\n",
       "      <td>3.156131</td>\n",
       "      <td>16.633167</td>\n",
       "      <td>16.673193</td>\n",
       "      <td>3.373468</td>\n",
       "      <td>71.59527</td>\n",
       "    </tr>\n",
       "    <tr>\n",
       "      <th>min</th>\n",
       "      <td>0.000000</td>\n",
       "      <td>40.000000</td>\n",
       "      <td>1.000000</td>\n",
       "      <td>1.000000</td>\n",
       "      <td>1.000000</td>\n",
       "      <td>3.000000</td>\n",
       "      <td>0.000000</td>\n",
       "      <td>0.000000</td>\n",
       "      <td>0.000000</td>\n",
       "      <td>0.000000</td>\n",
       "      <td>0.000000</td>\n",
       "      <td>0.000000</td>\n",
       "      <td>0.000000</td>\n",
       "      <td>0.000000</td>\n",
       "      <td>0.000000</td>\n",
       "      <td>1.000000</td>\n",
       "      <td>0.00000</td>\n",
       "    </tr>\n",
       "    <tr>\n",
       "      <th>25%</th>\n",
       "      <td>1370.250000</td>\n",
       "      <td>11281.250000</td>\n",
       "      <td>15.000000</td>\n",
       "      <td>27.000000</td>\n",
       "      <td>4.500000</td>\n",
       "      <td>4.000000</td>\n",
       "      <td>198.000000</td>\n",
       "      <td>6.500000</td>\n",
       "      <td>1.800000</td>\n",
       "      <td>13.875000</td>\n",
       "      <td>174.625000</td>\n",
       "      <td>12.700000</td>\n",
       "      <td>0.900000</td>\n",
       "      <td>2.100000</td>\n",
       "      <td>4.500000</td>\n",
       "      <td>4.000000</td>\n",
       "      <td>28.23375</td>\n",
       "    </tr>\n",
       "    <tr>\n",
       "      <th>50%</th>\n",
       "      <td>2740.500000</td>\n",
       "      <td>17198.000000</td>\n",
       "      <td>30.000000</td>\n",
       "      <td>45.000000</td>\n",
       "      <td>5.000000</td>\n",
       "      <td>7.000000</td>\n",
       "      <td>312.500000</td>\n",
       "      <td>13.900000</td>\n",
       "      <td>5.100000</td>\n",
       "      <td>56.900000</td>\n",
       "      <td>370.150000</td>\n",
       "      <td>27.600000</td>\n",
       "      <td>2.000000</td>\n",
       "      <td>4.900000</td>\n",
       "      <td>10.400000</td>\n",
       "      <td>6.000000</td>\n",
       "      <td>52.86250</td>\n",
       "    </tr>\n",
       "    <tr>\n",
       "      <th>75%</th>\n",
       "      <td>4110.750000</td>\n",
       "      <td>22970.750000</td>\n",
       "      <td>45.000000</td>\n",
       "      <td>68.000000</td>\n",
       "      <td>5.000000</td>\n",
       "      <td>15.000000</td>\n",
       "      <td>465.900000</td>\n",
       "      <td>24.600000</td>\n",
       "      <td>10.100000</td>\n",
       "      <td>108.675000</td>\n",
       "      <td>716.775000</td>\n",
       "      <td>46.400000</td>\n",
       "      <td>3.800000</td>\n",
       "      <td>14.200000</td>\n",
       "      <td>25.800000</td>\n",
       "      <td>8.000000</td>\n",
       "      <td>95.55000</td>\n",
       "    </tr>\n",
       "    <tr>\n",
       "      <th>max</th>\n",
       "      <td>5481.000000</td>\n",
       "      <td>29063.000000</td>\n",
       "      <td>240.000000</td>\n",
       "      <td>430.000000</td>\n",
       "      <td>5.000000</td>\n",
       "      <td>2273.000000</td>\n",
       "      <td>2442.200000</td>\n",
       "      <td>255.700000</td>\n",
       "      <td>69.800000</td>\n",
       "      <td>1739.800000</td>\n",
       "      <td>9601.000000</td>\n",
       "      <td>319.100000</td>\n",
       "      <td>61.700000</td>\n",
       "      <td>227.900000</td>\n",
       "      <td>275.200000</td>\n",
       "      <td>18.000000</td>\n",
       "      <td>499.90000</td>\n",
       "    </tr>\n",
       "  </tbody>\n",
       "</table>\n",
       "</div>"
      ],
      "text/plain": [
       "        Unnamed: 0      RecipeId     CookTime    TotalTime  AggregatedRating  \\\n",
       "count  5482.000000   5482.000000  5482.000000  5482.000000       5482.000000   \n",
       "mean   2740.500000  16729.138088    38.107078    55.372309          4.712879   \n",
       "std    1582.661419   7442.119866    37.639501    44.897538          0.441335   \n",
       "min       0.000000     40.000000     1.000000     1.000000          1.000000   \n",
       "25%    1370.250000  11281.250000    15.000000    27.000000          4.500000   \n",
       "50%    2740.500000  17198.000000    30.000000    45.000000          5.000000   \n",
       "75%    4110.750000  22970.750000    45.000000    68.000000          5.000000   \n",
       "max    5481.000000  29063.000000   240.000000   430.000000          5.000000   \n",
       "\n",
       "       ReviewCount     Calories   FatContent  SaturatedFatContent  \\\n",
       "count  5482.000000  5482.000000  5482.000000          5482.000000   \n",
       "mean     17.560744   362.612842    18.259905             7.229515   \n",
       "std      48.978484   243.724526    17.620314             7.686108   \n",
       "min       3.000000     0.000000     0.000000             0.000000   \n",
       "25%       4.000000   198.000000     6.500000             1.800000   \n",
       "50%       7.000000   312.500000    13.900000             5.100000   \n",
       "75%      15.000000   465.900000    24.600000            10.100000   \n",
       "max    2273.000000  2442.200000   255.700000            69.800000   \n",
       "\n",
       "       CholesterolContent  SodiumContent  CarbohydrateContent  FiberContent  \\\n",
       "count         5482.000000    5482.000000          5482.000000   5482.000000   \n",
       "mean            75.856895     539.072765            33.220522      2.904068   \n",
       "std             84.592176     590.814772            27.692891      3.156131   \n",
       "min              0.000000       0.000000             0.000000      0.000000   \n",
       "25%             13.875000     174.625000            12.700000      0.900000   \n",
       "50%             56.900000     370.150000            27.600000      2.000000   \n",
       "75%            108.675000     716.775000            46.400000      3.800000   \n",
       "max           1739.800000    9601.000000           319.100000     61.700000   \n",
       "\n",
       "       SugarContent  ProteinContent  RecipeServings  calories_per_serving  \n",
       "count   5482.000000     5482.000000     5482.000000            5482.00000  \n",
       "mean      11.738234       16.733400        6.485589              74.47417  \n",
       "std       16.633167       16.673193        3.373468              71.59527  \n",
       "min        0.000000        0.000000        1.000000               0.00000  \n",
       "25%        2.100000        4.500000        4.000000              28.23375  \n",
       "50%        4.900000       10.400000        6.000000              52.86250  \n",
       "75%       14.200000       25.800000        8.000000              95.55000  \n",
       "max      227.900000      275.200000       18.000000             499.90000  "
      ]
     },
     "execution_count": 38,
     "metadata": {},
     "output_type": "execute_result"
    }
   ],
   "source": [
    "recipes_df.describe()"
   ]
  },
  {
   "cell_type": "markdown",
   "metadata": {},
   "source": [
    "## Average Cooking Time"
   ]
  },
  {
   "cell_type": "code",
   "execution_count": 39,
   "metadata": {},
   "outputs": [
    {
     "data": {
      "image/png": "[encoded data removed]",
      "text/plain": [
       "<Figure size 576x396 with 1 Axes>"
      ]
     },
     "metadata": {},
     "output_type": "display_data"
    }
   ],
   "source": [
    "plt.hist(recipes_df['CookTime'], bins = 15);"
   ]
  },
  {
   "cell_type": "markdown",
   "metadata": {},
   "source": [
    "## Average Total Time"
   ]
  },
  {
   "cell_type": "code",
   "execution_count": 40,
   "metadata": {},
   "outputs": [
    {
     "data": {
      "image/png": "[encoded data removed]",
      "text/plain": [
       "<Figure size 576x396 with 1 Axes>"
      ]
     },
     "metadata": {},
     "output_type": "display_data"
    }
   ],
   "source": [
    "plt.hist(recipes_df['TotalTime'], bins = 15);"
   ]
  },
  {
   "cell_type": "markdown",
   "metadata": {},
   "source": [
    "## Total Time"
   ]
  },
  {
   "cell_type": "code",
   "execution_count": 41,
   "metadata": {},
   "outputs": [
    {
     "data": {
      "image/png": "[encoded data removed]",
      "text/plain": [
       "<Figure size 576x396 with 1 Axes>"
      ]
     },
     "metadata": {},
     "output_type": "display_data"
    }
   ],
   "source": [
    "plt.hist(recipes_df['TotalTime'], bins = 15);"
   ]
  },
  {
   "cell_type": "markdown",
   "metadata": {},
   "source": [
    "## Average Rating "
   ]
  },
  {
   "cell_type": "code",
   "execution_count": 42,
   "metadata": {},
   "outputs": [
    {
     "data": {
      "image/png": "[encoded data removed]",
      "text/plain": [
       "<Figure size 576x396 with 1 Axes>"
      ]
     },
     "metadata": {},
     "output_type": "display_data"
    }
   ],
   "source": [
    "plt.hist(recipes_df['AggregatedRating'], bins = 10);"
   ]
  },
  {
   "cell_type": "markdown",
   "metadata": {},
   "source": [
    "## Recipe Servings "
   ]
  },
  {
   "cell_type": "code",
   "execution_count": 43,
   "metadata": {},
   "outputs": [
    {
     "data": {
      "image/png": "[encoded data removed]",
      "text/plain": [
       "<Figure size 576x396 with 1 Axes>"
      ]
     },
     "metadata": {},
     "output_type": "display_data"
    }
   ],
   "source": [
    "plt.hist(recipes_df['RecipeServings'], bins = 10);"
   ]
  },
  {
   "cell_type": "code",
   "execution_count": null,
   "metadata": {},
   "outputs": [],
   "source": []
  },
  {
   "cell_type": "markdown",
   "metadata": {},
   "source": [
    "## Calories Per Serving"
   ]
  },
  {
   "cell_type": "code",
   "execution_count": 44,
   "metadata": {},
   "outputs": [
    {
     "data": {
      "image/png": "[encoded data removed]",
      "text/plain": [
       "<Figure size 576x396 with 1 Axes>"
      ]
     },
     "metadata": {},
     "output_type": "display_data"
    }
   ],
   "source": [
    "plt.hist(recipes_df['calories_per_serving'], bins = 10);"
   ]
  },
  {
   "cell_type": "code",
   "execution_count": null,
   "metadata": {},
   "outputs": [],
   "source": []
  }
 ],
 "metadata": {
  "kernelspec": {
   "display_name": "Python 3",
   "language": "python",
   "name": "python3"
  },
  "language_info": {
   "codemirror_mode": {
    "name": "ipython",
    "version": 3
   },
   "file_extension": ".py",
   "mimetype": "text/x-python",
   "name": "python",
   "nbconvert_exporter": "python",
   "pygments_lexer": "ipython3",
   "version": "3.7.6"
  }
 },
 "nbformat": 4,
 "nbformat_minor": 4
}
