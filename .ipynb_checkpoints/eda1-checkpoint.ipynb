{
 "cells": [
  {
   "cell_type": "code",
   "execution_count": 10,
   "metadata": {},
   "outputs": [],
   "source": [
    "import pandas as pd \n",
    "import numpy as np\n",
    "import matplotlib.pyplot as plt\n",
    "import matplotlib.pyplot as plt\n",
    "import seaborn as sns\n",
    "\n",
    "plt.style.use('seaborn')"
   ]
  },
  {
   "cell_type": "code",
   "execution_count": 4,
   "metadata": {},
   "outputs": [],
   "source": [
    "recipes_df = pd.read_csv('./data/recipes10k_df.csv')"
   ]
  },
  {
   "cell_type": "code",
   "execution_count": 5,
   "metadata": {
    "collapsed": true,
    "jupyter": {
     "outputs_hidden": true
    }
   },
   "outputs": [
    {
     "name": "stdout",
     "output_type": "stream",
     "text": [
      "<class 'pandas.core.frame.DataFrame'>\n",
      "RangeIndex: 10000 entries, 0 to 9999\n",
      "Data columns (total 23 columns):\n",
      " #   Column                      Non-Null Count  Dtype  \n",
      "---  ------                      --------------  -----  \n",
      " 0   Unnamed: 0                  10000 non-null  int64  \n",
      " 1   RecipeId                    10000 non-null  int64  \n",
      " 2   Name                        10000 non-null  object \n",
      " 3   CookTime                    10000 non-null  float64\n",
      " 4   PrepTime                    10000 non-null  object \n",
      " 5   TotalTime                   10000 non-null  float64\n",
      " 6   RecipeCategory              10000 non-null  object \n",
      " 7   Keywords                    10000 non-null  object \n",
      " 8   RecipeIngredientQuantities  10000 non-null  object \n",
      " 9   RecipeIngredientParts       10000 non-null  object \n",
      " 10  AggregatedRating            10000 non-null  float64\n",
      " 11  ReviewCount                 10000 non-null  float64\n",
      " 12  Calories                    10000 non-null  float64\n",
      " 13  FatContent                  10000 non-null  float64\n",
      " 14  SaturatedFatContent         10000 non-null  float64\n",
      " 15  CholesterolContent          10000 non-null  float64\n",
      " 16  SodiumContent               10000 non-null  float64\n",
      " 17  CarbohydrateContent         10000 non-null  float64\n",
      " 18  FiberContent                10000 non-null  float64\n",
      " 19  SugarContent                10000 non-null  float64\n",
      " 20  ProteinContent              10000 non-null  float64\n",
      " 21  RecipeServings              10000 non-null  float64\n",
      " 22  RecipeInstructions          10000 non-null  object \n",
      "dtypes: float64(14), int64(2), object(7)\n",
      "memory usage: 1.8+ MB\n"
     ]
    }
   ],
   "source": [
    "recipes_df.info()"
   ]
  },
  {
   "cell_type": "code",
   "execution_count": 7,
   "metadata": {},
   "outputs": [
    {
     "data": {
      "text/html": [
       "<div>\n",
       "<style scoped>\n",
       "    .dataframe tbody tr th:only-of-type {\n",
       "        vertical-align: middle;\n",
       "    }\n",
       "\n",
       "    .dataframe tbody tr th {\n",
       "        vertical-align: top;\n",
       "    }\n",
       "\n",
       "    .dataframe thead th {\n",
       "        text-align: right;\n",
       "    }\n",
       "</style>\n",
       "<table border=\"1\" class=\"dataframe\">\n",
       "  <thead>\n",
       "    <tr style=\"text-align: right;\">\n",
       "      <th></th>\n",
       "      <th>Unnamed: 0</th>\n",
       "      <th>RecipeId</th>\n",
       "      <th>CookTime</th>\n",
       "      <th>TotalTime</th>\n",
       "      <th>AggregatedRating</th>\n",
       "      <th>ReviewCount</th>\n",
       "      <th>Calories</th>\n",
       "      <th>FatContent</th>\n",
       "      <th>SaturatedFatContent</th>\n",
       "      <th>CholesterolContent</th>\n",
       "      <th>SodiumContent</th>\n",
       "      <th>CarbohydrateContent</th>\n",
       "      <th>FiberContent</th>\n",
       "      <th>SugarContent</th>\n",
       "      <th>ProteinContent</th>\n",
       "      <th>RecipeServings</th>\n",
       "    </tr>\n",
       "  </thead>\n",
       "  <tbody>\n",
       "    <tr>\n",
       "      <th>count</th>\n",
       "      <td>10000.00000</td>\n",
       "      <td>10000.000000</td>\n",
       "      <td>10000.000000</td>\n",
       "      <td>10000.000000</td>\n",
       "      <td>10000.000000</td>\n",
       "      <td>10000.000000</td>\n",
       "      <td>10000.000000</td>\n",
       "      <td>10000.00000</td>\n",
       "      <td>10000.000000</td>\n",
       "      <td>10000.000000</td>\n",
       "      <td>10000.000000</td>\n",
       "      <td>10000.000000</td>\n",
       "      <td>10000.000000</td>\n",
       "      <td>10000.000000</td>\n",
       "      <td>10000.000000</td>\n",
       "      <td>10000.000000</td>\n",
       "    </tr>\n",
       "    <tr>\n",
       "      <th>mean</th>\n",
       "      <td>4999.50000</td>\n",
       "      <td>16687.773200</td>\n",
       "      <td>80.323300</td>\n",
       "      <td>127.617700</td>\n",
       "      <td>4.572700</td>\n",
       "      <td>11.915200</td>\n",
       "      <td>385.815340</td>\n",
       "      <td>19.68433</td>\n",
       "      <td>7.744380</td>\n",
       "      <td>78.322350</td>\n",
       "      <td>557.359070</td>\n",
       "      <td>35.626560</td>\n",
       "      <td>3.038910</td>\n",
       "      <td>13.253020</td>\n",
       "      <td>17.002840</td>\n",
       "      <td>8.287100</td>\n",
       "    </tr>\n",
       "    <tr>\n",
       "      <th>std</th>\n",
       "      <td>2886.89568</td>\n",
       "      <td>7430.409419</td>\n",
       "      <td>789.114254</td>\n",
       "      <td>1355.418891</td>\n",
       "      <td>0.647732</td>\n",
       "      <td>43.117327</td>\n",
       "      <td>410.144671</td>\n",
       "      <td>27.39876</td>\n",
       "      <td>11.376122</td>\n",
       "      <td>104.927884</td>\n",
       "      <td>889.247015</td>\n",
       "      <td>50.460876</td>\n",
       "      <td>3.880702</td>\n",
       "      <td>33.482805</td>\n",
       "      <td>19.915201</td>\n",
       "      <td>35.936436</td>\n",
       "    </tr>\n",
       "    <tr>\n",
       "      <th>min</th>\n",
       "      <td>0.00000</td>\n",
       "      <td>38.000000</td>\n",
       "      <td>1.000000</td>\n",
       "      <td>1.000000</td>\n",
       "      <td>1.000000</td>\n",
       "      <td>1.000000</td>\n",
       "      <td>0.000000</td>\n",
       "      <td>0.00000</td>\n",
       "      <td>0.000000</td>\n",
       "      <td>0.000000</td>\n",
       "      <td>0.000000</td>\n",
       "      <td>0.000000</td>\n",
       "      <td>0.000000</td>\n",
       "      <td>0.000000</td>\n",
       "      <td>0.000000</td>\n",
       "      <td>1.000000</td>\n",
       "    </tr>\n",
       "    <tr>\n",
       "      <th>25%</th>\n",
       "      <td>2499.75000</td>\n",
       "      <td>11334.500000</td>\n",
       "      <td>15.000000</td>\n",
       "      <td>30.000000</td>\n",
       "      <td>4.500000</td>\n",
       "      <td>2.000000</td>\n",
       "      <td>186.975000</td>\n",
       "      <td>6.20000</td>\n",
       "      <td>1.700000</td>\n",
       "      <td>11.700000</td>\n",
       "      <td>149.350000</td>\n",
       "      <td>12.400000</td>\n",
       "      <td>0.900000</td>\n",
       "      <td>2.200000</td>\n",
       "      <td>4.200000</td>\n",
       "      <td>4.000000</td>\n",
       "    </tr>\n",
       "    <tr>\n",
       "      <th>50%</th>\n",
       "      <td>4999.50000</td>\n",
       "      <td>17126.500000</td>\n",
       "      <td>30.000000</td>\n",
       "      <td>45.000000</td>\n",
       "      <td>5.000000</td>\n",
       "      <td>4.000000</td>\n",
       "      <td>311.250000</td>\n",
       "      <td>13.60000</td>\n",
       "      <td>4.900000</td>\n",
       "      <td>53.700000</td>\n",
       "      <td>353.100000</td>\n",
       "      <td>27.100000</td>\n",
       "      <td>2.000000</td>\n",
       "      <td>5.300000</td>\n",
       "      <td>10.200000</td>\n",
       "      <td>6.000000</td>\n",
       "    </tr>\n",
       "    <tr>\n",
       "      <th>75%</th>\n",
       "      <td>7499.25000</td>\n",
       "      <td>22826.000000</td>\n",
       "      <td>50.000000</td>\n",
       "      <td>75.000000</td>\n",
       "      <td>5.000000</td>\n",
       "      <td>9.000000</td>\n",
       "      <td>473.700000</td>\n",
       "      <td>24.90000</td>\n",
       "      <td>10.100000</td>\n",
       "      <td>108.600000</td>\n",
       "      <td>704.750000</td>\n",
       "      <td>46.800000</td>\n",
       "      <td>3.900000</td>\n",
       "      <td>14.800000</td>\n",
       "      <td>25.600000</td>\n",
       "      <td>8.000000</td>\n",
       "    </tr>\n",
       "    <tr>\n",
       "      <th>max</th>\n",
       "      <td>9999.00000</td>\n",
       "      <td>29063.000000</td>\n",
       "      <td>43200.000000</td>\n",
       "      <td>96480.000000</td>\n",
       "      <td>5.000000</td>\n",
       "      <td>2273.000000</td>\n",
       "      <td>10397.600000</td>\n",
       "      <td>1095.20000</td>\n",
       "      <td>305.300000</td>\n",
       "      <td>2900.200000</td>\n",
       "      <td>30502.900000</td>\n",
       "      <td>1787.700000</td>\n",
       "      <td>96.200000</td>\n",
       "      <td>1321.400000</td>\n",
       "      <td>789.000000</td>\n",
       "      <td>3500.000000</td>\n",
       "    </tr>\n",
       "  </tbody>\n",
       "</table>\n",
       "</div>"
      ],
      "text/plain": [
       "        Unnamed: 0      RecipeId      CookTime     TotalTime  \\\n",
       "count  10000.00000  10000.000000  10000.000000  10000.000000   \n",
       "mean    4999.50000  16687.773200     80.323300    127.617700   \n",
       "std     2886.89568   7430.409419    789.114254   1355.418891   \n",
       "min        0.00000     38.000000      1.000000      1.000000   \n",
       "25%     2499.75000  11334.500000     15.000000     30.000000   \n",
       "50%     4999.50000  17126.500000     30.000000     45.000000   \n",
       "75%     7499.25000  22826.000000     50.000000     75.000000   \n",
       "max     9999.00000  29063.000000  43200.000000  96480.000000   \n",
       "\n",
       "       AggregatedRating   ReviewCount      Calories   FatContent  \\\n",
       "count      10000.000000  10000.000000  10000.000000  10000.00000   \n",
       "mean           4.572700     11.915200    385.815340     19.68433   \n",
       "std            0.647732     43.117327    410.144671     27.39876   \n",
       "min            1.000000      1.000000      0.000000      0.00000   \n",
       "25%            4.500000      2.000000    186.975000      6.20000   \n",
       "50%            5.000000      4.000000    311.250000     13.60000   \n",
       "75%            5.000000      9.000000    473.700000     24.90000   \n",
       "max            5.000000   2273.000000  10397.600000   1095.20000   \n",
       "\n",
       "       SaturatedFatContent  CholesterolContent  SodiumContent  \\\n",
       "count         10000.000000        10000.000000   10000.000000   \n",
       "mean              7.744380           78.322350     557.359070   \n",
       "std              11.376122          104.927884     889.247015   \n",
       "min               0.000000            0.000000       0.000000   \n",
       "25%               1.700000           11.700000     149.350000   \n",
       "50%               4.900000           53.700000     353.100000   \n",
       "75%              10.100000          108.600000     704.750000   \n",
       "max             305.300000         2900.200000   30502.900000   \n",
       "\n",
       "       CarbohydrateContent  FiberContent  SugarContent  ProteinContent  \\\n",
       "count         10000.000000  10000.000000  10000.000000    10000.000000   \n",
       "mean             35.626560      3.038910     13.253020       17.002840   \n",
       "std              50.460876      3.880702     33.482805       19.915201   \n",
       "min               0.000000      0.000000      0.000000        0.000000   \n",
       "25%              12.400000      0.900000      2.200000        4.200000   \n",
       "50%              27.100000      2.000000      5.300000       10.200000   \n",
       "75%              46.800000      3.900000     14.800000       25.600000   \n",
       "max            1787.700000     96.200000   1321.400000      789.000000   \n",
       "\n",
       "       RecipeServings  \n",
       "count    10000.000000  \n",
       "mean         8.287100  \n",
       "std         35.936436  \n",
       "min          1.000000  \n",
       "25%          4.000000  \n",
       "50%          6.000000  \n",
       "75%          8.000000  \n",
       "max       3500.000000  "
      ]
     },
     "execution_count": 7,
     "metadata": {},
     "output_type": "execute_result"
    }
   ],
   "source": [
    "recipes_df.describe()"
   ]
  },
  {
   "cell_type": "markdown",
   "metadata": {},
   "source": [
    "## Average Cooking Time"
   ]
  },
  {
   "cell_type": "code",
   "execution_count": 22,
   "metadata": {},
   "outputs": [
    {
     "data": {
      "image/png": "[encoded data removed]",
      "text/plain": [
       "<Figure size 576x396 with 1 Axes>"
      ]
     },
     "metadata": {},
     "output_type": "display_data"
    }
   ],
   "source": [
    "plt.hist(recipes_df['CookTime'], bins = 10);"
   ]
  },
  {
   "cell_type": "code",
   "execution_count": null,
   "metadata": {},
   "outputs": [],
   "source": []
  },
  {
   "cell_type": "markdown",
   "metadata": {},
   "source": [
    "## Average Total Time"
   ]
  },
  {
   "cell_type": "code",
   "execution_count": 23,
   "metadata": {},
   "outputs": [
    {
     "data": {
      "image/png": "[encoded data removed]",
      "text/plain": [
       "<Figure size 576x396 with 1 Axes>"
      ]
     },
     "metadata": {},
     "output_type": "display_data"
    }
   ],
   "source": [
    "plt.hist(recipes_df['TotalTime'], bins = 10);"
   ]
  },
  {
   "cell_type": "code",
   "execution_count": null,
   "metadata": {},
   "outputs": [],
   "source": []
  },
  {
   "cell_type": "markdown",
   "metadata": {},
   "source": [
    "## Calories"
   ]
  },
  {
   "cell_type": "code",
   "execution_count": 29,
   "metadata": {},
   "outputs": [
    {
     "data": {
      "image/png": "[encoded data removed]",
      "text/plain": [
       "<Figure size 576x396 with 1 Axes>"
      ]
     },
     "metadata": {},
     "output_type": "display_data"
    }
   ],
   "source": [
    "plt.plot(recipes_df['TotalTime'];"
   ]
  },
  {
   "cell_type": "code",
   "execution_count": null,
   "metadata": {},
   "outputs": [],
   "source": []
  },
  {
   "cell_type": "code",
   "execution_count": 19,
   "metadata": {},
   "outputs": [
    {
     "data": {
      "image/png": "[encoded data removed]",
      "text/plain": [
       "<Figure size 576x396 with 1 Axes>"
      ]
     },
     "metadata": {},
     "output_type": "display_data"
    }
   ],
   "source": [
    "plt.hist(recipes_df['AggregatedRating'], bins = 10);"
   ]
  },
  {
   "cell_type": "code",
   "execution_count": null,
   "metadata": {},
   "outputs": [],
   "source": []
  },
  {
   "cell_type": "markdown",
   "metadata": {},
   "source": [
    "## Recipe Servings "
   ]
  },
  {
   "cell_type": "code",
   "execution_count": 30,
   "metadata": {},
   "outputs": [
    {
     "data": {
      "image/png": "[encoded data removed]",
      "text/plain": [
       "<Figure size 576x396 with 1 Axes>"
      ]
     },
     "metadata": {},
     "output_type": "display_data"
    }
   ],
   "source": [
    "plt.hist(recipes_df['RecipeServings'], bins = 10);"
   ]
  },
  {
   "cell_type": "code",
   "execution_count": null,
   "metadata": {},
   "outputs": [],
   "source": []
  },
  {
   "cell_type": "code",
   "execution_count": null,
   "metadata": {},
   "outputs": [],
   "source": []
  }
 ],
 "metadata": {
  "kernelspec": {
   "display_name": "Python 3",
   "language": "python",
   "name": "python3"
  },
  "language_info": {
   "codemirror_mode": {
    "name": "ipython",
    "version": 3
   },
   "file_extension": ".py",
   "mimetype": "text/x-python",
   "name": "python",
   "nbconvert_exporter": "python",
   "pygments_lexer": "ipython3",
   "version": "3.7.6"
  }
 },
 "nbformat": 4,
 "nbformat_minor": 4
}
