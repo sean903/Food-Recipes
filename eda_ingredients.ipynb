{
 "cells": [
  {
   "cell_type": "code",
   "execution_count": 25,
   "metadata": {},
   "outputs": [],
   "source": [
    "import pandas as pd\n",
    "import numpy as np\n",
    "import seaborn as sns\n",
    "import matplotlib.pyplot as plt\n",
    "\n",
    "plt.style.use('seaborn')"
   ]
  },
  {
   "cell_type": "code",
   "execution_count": 57,
   "metadata": {},
   "outputs": [],
   "source": [
    "recipes_df = pd.read_csv('./data/recipes5k_df.csv')"
   ]
  },
  {
   "cell_type": "code",
   "execution_count": 59,
   "metadata": {},
   "outputs": [
    {
     "data": {
      "text/plain": [
       "'[\\'\"sugar\"\\', \\' \"lemons\\', \\' rind of\"\\', \\' \"lemon\\', \\' zest of\"\\', \\' \"fresh water\"\\', \\' \"fresh lemon juice\"\\']'"
      ]
     },
     "execution_count": 59,
     "metadata": {},
     "output_type": "execute_result"
    }
   ],
   "source": [
    "recipes_df['RecipeIngredientParts'][0]"
   ]
  },
  {
   "cell_type": "code",
   "execution_count": null,
   "metadata": {},
   "outputs": [],
   "source": []
  },
  {
   "cell_type": "code",
   "execution_count": 49,
   "metadata": {},
   "outputs": [],
   "source": [
    "pd.set_option('display.max_columns', None)"
   ]
  },
  {
   "cell_type": "code",
   "execution_count": 50,
   "metadata": {},
   "outputs": [],
   "source": [
    "recipes_df = recipes_df.drop(columns = 'Unnamed: 0')"
   ]
  },
  {
   "cell_type": "code",
   "execution_count": 51,
   "metadata": {},
   "outputs": [
    {
     "data": {
      "text/html": [
       "<div>\n",
       "<style scoped>\n",
       "    .dataframe tbody tr th:only-of-type {\n",
       "        vertical-align: middle;\n",
       "    }\n",
       "\n",
       "    .dataframe tbody tr th {\n",
       "        vertical-align: top;\n",
       "    }\n",
       "\n",
       "    .dataframe thead th {\n",
       "        text-align: right;\n",
       "    }\n",
       "</style>\n",
       "<table border=\"1\" class=\"dataframe\">\n",
       "  <thead>\n",
       "    <tr style=\"text-align: right;\">\n",
       "      <th></th>\n",
       "      <th>RecipeId</th>\n",
       "      <th>Name</th>\n",
       "      <th>CookTime</th>\n",
       "      <th>PrepTime</th>\n",
       "      <th>TotalTime</th>\n",
       "      <th>RecipeCategory</th>\n",
       "      <th>Keywords</th>\n",
       "      <th>RecipeIngredientQuantities</th>\n",
       "      <th>RecipeIngredientParts</th>\n",
       "      <th>AggregatedRating</th>\n",
       "      <th>ReviewCount</th>\n",
       "      <th>Calories</th>\n",
       "      <th>FatContent</th>\n",
       "      <th>SaturatedFatContent</th>\n",
       "      <th>CholesterolContent</th>\n",
       "      <th>SodiumContent</th>\n",
       "      <th>CarbohydrateContent</th>\n",
       "      <th>FiberContent</th>\n",
       "      <th>SugarContent</th>\n",
       "      <th>ProteinContent</th>\n",
       "      <th>RecipeServings</th>\n",
       "      <th>RecipeInstructions</th>\n",
       "      <th>calories_per_serving</th>\n",
       "    </tr>\n",
       "  </thead>\n",
       "  <tbody>\n",
       "    <tr>\n",
       "      <th>0</th>\n",
       "      <td>40</td>\n",
       "      <td>Best Lemonade</td>\n",
       "      <td>5.0</td>\n",
       "      <td>30</td>\n",
       "      <td>35.0</td>\n",
       "      <td>Beverages</td>\n",
       "      <td>['\"Low Protein\"', ' \"Low Cholesterol\"', ' \"Hea...</td>\n",
       "      <td>['\"1 1/2\"', ' \"1\"', ' NA', ' \"1 1/2\"', ' NA', ...</td>\n",
       "      <td>['\"sugar\"', ' \"lemons', ' rind of\"', ' \"lemon'...</td>\n",
       "      <td>4.5</td>\n",
       "      <td>10.0</td>\n",
       "      <td>311.1</td>\n",
       "      <td>0.2</td>\n",
       "      <td>0.0</td>\n",
       "      <td>0.0</td>\n",
       "      <td>1.8</td>\n",
       "      <td>81.5</td>\n",
       "      <td>0.4</td>\n",
       "      <td>77.2</td>\n",
       "      <td>0.3</td>\n",
       "      <td>4.0</td>\n",
       "      <td>['\"Into a 1 quart Jar with tight fitting lid',...</td>\n",
       "      <td>77.775</td>\n",
       "    </tr>\n",
       "    <tr>\n",
       "      <th>1</th>\n",
       "      <td>42</td>\n",
       "      <td>Cabbage Soup</td>\n",
       "      <td>30.0</td>\n",
       "      <td>20</td>\n",
       "      <td>50.0</td>\n",
       "      <td>Vegetable</td>\n",
       "      <td>['\"Low Protein\"', ' \"Vegan\"', ' \"Low Cholester...</td>\n",
       "      <td>['\"46\"', ' \"4\"', ' \"1\"', ' \"2\"', ' \"1\"']</td>\n",
       "      <td>['\"plain tomato juice\"', ' \"cabbage\"', ' \"onio...</td>\n",
       "      <td>4.5</td>\n",
       "      <td>11.0</td>\n",
       "      <td>103.6</td>\n",
       "      <td>0.4</td>\n",
       "      <td>0.1</td>\n",
       "      <td>0.0</td>\n",
       "      <td>959.3</td>\n",
       "      <td>25.1</td>\n",
       "      <td>4.8</td>\n",
       "      <td>17.7</td>\n",
       "      <td>4.3</td>\n",
       "      <td>4.0</td>\n",
       "      <td>['\"Mix everything together and bring to a boil...</td>\n",
       "      <td>25.900</td>\n",
       "    </tr>\n",
       "  </tbody>\n",
       "</table>\n",
       "</div>"
      ],
      "text/plain": [
       "   RecipeId           Name  CookTime PrepTime  TotalTime RecipeCategory  \\\n",
       "0        40  Best Lemonade       5.0       30       35.0      Beverages   \n",
       "1        42   Cabbage Soup      30.0       20       50.0      Vegetable   \n",
       "\n",
       "                                            Keywords  \\\n",
       "0  ['\"Low Protein\"', ' \"Low Cholesterol\"', ' \"Hea...   \n",
       "1  ['\"Low Protein\"', ' \"Vegan\"', ' \"Low Cholester...   \n",
       "\n",
       "                          RecipeIngredientQuantities  \\\n",
       "0  ['\"1 1/2\"', ' \"1\"', ' NA', ' \"1 1/2\"', ' NA', ...   \n",
       "1           ['\"46\"', ' \"4\"', ' \"1\"', ' \"2\"', ' \"1\"']   \n",
       "\n",
       "                               RecipeIngredientParts  AggregatedRating  \\\n",
       "0  ['\"sugar\"', ' \"lemons', ' rind of\"', ' \"lemon'...               4.5   \n",
       "1  ['\"plain tomato juice\"', ' \"cabbage\"', ' \"onio...               4.5   \n",
       "\n",
       "   ReviewCount  Calories  FatContent  SaturatedFatContent  CholesterolContent  \\\n",
       "0         10.0     311.1         0.2                  0.0                 0.0   \n",
       "1         11.0     103.6         0.4                  0.1                 0.0   \n",
       "\n",
       "   SodiumContent  CarbohydrateContent  FiberContent  SugarContent  \\\n",
       "0            1.8                 81.5           0.4          77.2   \n",
       "1          959.3                 25.1           4.8          17.7   \n",
       "\n",
       "   ProteinContent  RecipeServings  \\\n",
       "0             0.3             4.0   \n",
       "1             4.3             4.0   \n",
       "\n",
       "                                  RecipeInstructions  calories_per_serving  \n",
       "0  ['\"Into a 1 quart Jar with tight fitting lid',...                77.775  \n",
       "1  ['\"Mix everything together and bring to a boil...                25.900  "
      ]
     },
     "execution_count": 51,
     "metadata": {},
     "output_type": "execute_result"
    }
   ],
   "source": [
    "recipes_df.head(2)"
   ]
  },
  {
   "cell_type": "code",
   "execution_count": 52,
   "metadata": {},
   "outputs": [
    {
     "data": {
      "text/plain": [
       "<AxesSubplot:>"
      ]
     },
     "execution_count": 52,
     "metadata": {},
     "output_type": "execute_result"
    },
    {
     "data": {
      "image/png": "[encoded data removed]",
      "text/plain": [
       "<Figure size 576x396 with 1 Axes>"
      ]
     },
     "metadata": {},
     "output_type": "display_data"
    }
   ],
   "source": [
    "recipes_df['RecipeCategory'].value_counts().head(10).plot(kind='barh')"
   ]
  },
  {
   "cell_type": "code",
   "execution_count": 53,
   "metadata": {},
   "outputs": [
    {
     "data": {
      "text/plain": [
       "<AxesSubplot:>"
      ]
     },
     "execution_count": 53,
     "metadata": {},
     "output_type": "execute_result"
    },
    {
     "data": {
      "image/png": "[encoded data removed]",
      "text/plain": [
       "<Figure size 576x396 with 1 Axes>"
      ]
     },
     "metadata": {},
     "output_type": "display_data"
    }
   ],
   "source": [
    "recipes_df['RecipeIngredientParts'].value_counts().head(10).plot(kind='barh')"
   ]
  },
  {
   "cell_type": "code",
   "execution_count": 54,
   "metadata": {},
   "outputs": [],
   "source": [
    "def to_1D(series):\n",
    "    return pd.Series([x for _list in series for x in _list])"
   ]
  },
  {
   "cell_type": "code",
   "execution_count": 55,
   "metadata": {},
   "outputs": [
    {
     "data": {
      "text/plain": [
       "     104264\n",
       "'     88009\n",
       "\"     87700\n",
       "e     53037\n",
       ",     38471\n",
       "      ...  \n",
       "8         5\n",
       "(         5\n",
       "9         2\n",
       "®         1\n",
       "Q         1\n",
       "Length: 67, dtype: int64"
      ]
     },
     "execution_count": 55,
     "metadata": {},
     "output_type": "execute_result"
    }
   ],
   "source": [
    "to_1D(recipes_df['RecipeIngredientParts']).value_counts()"
   ]
  },
  {
   "cell_type": "code",
   "execution_count": 56,
   "metadata": {},
   "outputs": [
    {
     "data": {
      "text/plain": [
       "'[\\'\"chicken\"\\', \\' \"butter\"\\', \\' \"flour\"\\', \\' \"milk\"\\', \\' \"celery\"\\', \\' \"button mushrooms\"\\', \\' \"green pepper\"\\', \\' \"canned pimiento\"\\', \\' \"salt\"\\', \\' \"black pepper\"\\', \\' \"Worcestershire sauce\"\\', \\' \"parsley\"\\']'"
      ]
     },
     "execution_count": 56,
     "metadata": {},
     "output_type": "execute_result"
    }
   ],
   "source": [
    "recipes_df['RecipeIngredientParts'][2]"
   ]
  },
  {
   "cell_type": "code",
   "execution_count": null,
   "metadata": {},
   "outputs": [],
   "source": []
  }
 ],
 "metadata": {
  "kernelspec": {
   "display_name": "Python 3",
   "language": "python",
   "name": "python3"
  },
  "language_info": {
   "codemirror_mode": {
    "name": "ipython",
    "version": 3
   },
   "file_extension": ".py",
   "mimetype": "text/x-python",
   "name": "python",
   "nbconvert_exporter": "python",
   "pygments_lexer": "ipython3",
   "version": "3.7.6"
  }
 },
 "nbformat": 4,
 "nbformat_minor": 4
}
