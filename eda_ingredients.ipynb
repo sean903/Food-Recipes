{
 "cells": [
  {
   "cell_type": "code",
   "execution_count": 181,
   "metadata": {},
   "outputs": [],
   "source": [
    "import pandas as pd\n",
    "import numpy as np\n",
    "import seaborn as sns\n",
    "import matplotlib.pyplot as plt\n",
    "import ast\n",
    "from io import StringIO\n",
    "plt.style.use('seaborn')"
   ]
  },
  {
   "cell_type": "code",
   "execution_count": 182,
   "metadata": {},
   "outputs": [],
   "source": [
    "# recipes_df = pd.read_csv('./data/recipes_clean_10k_df.csv')"
   ]
  },
  {
   "cell_type": "code",
   "execution_count": 183,
   "metadata": {},
   "outputs": [],
   "source": [
    "recipes_df = pd.read_pickle('./data/recipes_clean_10k')"
   ]
  },
  {
   "cell_type": "code",
   "execution_count": 184,
   "metadata": {},
   "outputs": [],
   "source": [
    "pd.set_option('display.max_columns', None)"
   ]
  },
  {
   "cell_type": "code",
   "execution_count": 185,
   "metadata": {},
   "outputs": [],
   "source": [
    "recipes_df = recipes_df.drop(columns = 'level_0')"
   ]
  },
  {
   "cell_type": "code",
   "execution_count": 186,
   "metadata": {},
   "outputs": [
    {
     "data": {
      "text/html": [
       "<div>\n",
       "<style scoped>\n",
       "    .dataframe tbody tr th:only-of-type {\n",
       "        vertical-align: middle;\n",
       "    }\n",
       "\n",
       "    .dataframe tbody tr th {\n",
       "        vertical-align: top;\n",
       "    }\n",
       "\n",
       "    .dataframe thead th {\n",
       "        text-align: right;\n",
       "    }\n",
       "</style>\n",
       "<table border=\"1\" class=\"dataframe\">\n",
       "  <thead>\n",
       "    <tr style=\"text-align: right;\">\n",
       "      <th></th>\n",
       "      <th>index</th>\n",
       "      <th>Name</th>\n",
       "      <th>CookTime</th>\n",
       "      <th>PrepTime</th>\n",
       "      <th>TotalTime</th>\n",
       "      <th>RecipeCategory</th>\n",
       "      <th>Keywords</th>\n",
       "      <th>RecipeIngredientQuantities</th>\n",
       "      <th>RecipeIngredientParts</th>\n",
       "      <th>AggregatedRating</th>\n",
       "      <th>ReviewCount</th>\n",
       "      <th>Calories</th>\n",
       "      <th>FatContent</th>\n",
       "      <th>SaturatedFatContent</th>\n",
       "      <th>CholesterolContent</th>\n",
       "      <th>SodiumContent</th>\n",
       "      <th>CarbohydrateContent</th>\n",
       "      <th>FiberContent</th>\n",
       "      <th>SugarContent</th>\n",
       "      <th>ProteinContent</th>\n",
       "      <th>RecipeServings</th>\n",
       "      <th>RecipeInstructions</th>\n",
       "      <th>calories_per_serving</th>\n",
       "    </tr>\n",
       "  </thead>\n",
       "  <tbody>\n",
       "    <tr>\n",
       "      <th>0</th>\n",
       "      <td>2</td>\n",
       "      <td>Best Lemonade</td>\n",
       "      <td>5.0</td>\n",
       "      <td>30.0</td>\n",
       "      <td>35.0</td>\n",
       "      <td>Beverages</td>\n",
       "      <td>(Low Protein, Low Cholesterol, Healthy, Summer...</td>\n",
       "      <td>\"1 1/2\", \"1\", NA, \"1 1/2\", NA, \"3/4\"</td>\n",
       "      <td>(sugar, lemons, rind of, lemon, zest of, fresh...</td>\n",
       "      <td>4.5</td>\n",
       "      <td>10.0</td>\n",
       "      <td>311.1</td>\n",
       "      <td>0.2</td>\n",
       "      <td>0.0</td>\n",
       "      <td>0.0</td>\n",
       "      <td>1.8</td>\n",
       "      <td>81.5</td>\n",
       "      <td>0.4</td>\n",
       "      <td>77.2</td>\n",
       "      <td>0.3</td>\n",
       "      <td>4.0</td>\n",
       "      <td>(Into a 1 quart Jar with tight fitting lid, pu...</td>\n",
       "      <td>77.775</td>\n",
       "    </tr>\n",
       "    <tr>\n",
       "      <th>1</th>\n",
       "      <td>4</td>\n",
       "      <td>Cabbage Soup</td>\n",
       "      <td>30.0</td>\n",
       "      <td>20.0</td>\n",
       "      <td>50.0</td>\n",
       "      <td>Vegetable</td>\n",
       "      <td>(Low Protein, Vegan, Low Cholesterol, Healthy,...</td>\n",
       "      <td>c(\"46\", \"4\", \"1\", \"2\", \"1\")</td>\n",
       "      <td>(plain tomato juice, cabbage, onion, carrots, ...</td>\n",
       "      <td>4.5</td>\n",
       "      <td>11.0</td>\n",
       "      <td>103.6</td>\n",
       "      <td>0.4</td>\n",
       "      <td>0.1</td>\n",
       "      <td>0.0</td>\n",
       "      <td>959.3</td>\n",
       "      <td>25.1</td>\n",
       "      <td>4.8</td>\n",
       "      <td>17.7</td>\n",
       "      <td>4.3</td>\n",
       "      <td>4.0</td>\n",
       "      <td>(Mix everything together and bring to a boil.,...</td>\n",
       "      <td>25.900</td>\n",
       "    </tr>\n",
       "  </tbody>\n",
       "</table>\n",
       "</div>"
      ],
      "text/plain": [
       "   index           Name  CookTime  PrepTime  TotalTime RecipeCategory  \\\n",
       "0      2  Best Lemonade       5.0      30.0       35.0      Beverages   \n",
       "1      4   Cabbage Soup      30.0      20.0       50.0      Vegetable   \n",
       "\n",
       "                                            Keywords  \\\n",
       "0  (Low Protein, Low Cholesterol, Healthy, Summer...   \n",
       "1  (Low Protein, Vegan, Low Cholesterol, Healthy,...   \n",
       "\n",
       "             RecipeIngredientQuantities  \\\n",
       "0  \"1 1/2\", \"1\", NA, \"1 1/2\", NA, \"3/4\"   \n",
       "1           c(\"46\", \"4\", \"1\", \"2\", \"1\")   \n",
       "\n",
       "                               RecipeIngredientParts  AggregatedRating  \\\n",
       "0  (sugar, lemons, rind of, lemon, zest of, fresh...               4.5   \n",
       "1  (plain tomato juice, cabbage, onion, carrots, ...               4.5   \n",
       "\n",
       "   ReviewCount  Calories  FatContent  SaturatedFatContent  CholesterolContent  \\\n",
       "0         10.0     311.1         0.2                  0.0                 0.0   \n",
       "1         11.0     103.6         0.4                  0.1                 0.0   \n",
       "\n",
       "   SodiumContent  CarbohydrateContent  FiberContent  SugarContent  \\\n",
       "0            1.8                 81.5           0.4          77.2   \n",
       "1          959.3                 25.1           4.8          17.7   \n",
       "\n",
       "   ProteinContent  RecipeServings  \\\n",
       "0             0.3             4.0   \n",
       "1             4.3             4.0   \n",
       "\n",
       "                                  RecipeInstructions  calories_per_serving  \n",
       "0  (Into a 1 quart Jar with tight fitting lid, pu...                77.775  \n",
       "1  (Mix everything together and bring to a boil.,...                25.900  "
      ]
     },
     "execution_count": 186,
     "metadata": {},
     "output_type": "execute_result"
    }
   ],
   "source": [
    "recipes_df.head(2)"
   ]
  },
  {
   "cell_type": "code",
   "execution_count": 187,
   "metadata": {},
   "outputs": [
    {
     "data": {
      "text/plain": [
       "<AxesSubplot:>"
      ]
     },
     "execution_count": 187,
     "metadata": {},
     "output_type": "execute_result"
    },
    {
     "data": {
      "image/png": "[encoded data removed]",
      "text/plain": [
       "<Figure size 576x396 with 1 Axes>"
      ]
     },
     "metadata": {},
     "output_type": "display_data"
    }
   ],
   "source": [
    "recipes_df['RecipeCategory'].value_counts().head(10).plot(kind='barh')"
   ]
  },
  {
   "cell_type": "code",
   "execution_count": 188,
   "metadata": {},
   "outputs": [
    {
     "data": {
      "text/plain": [
       "butter                                                                                               3\n",
       "(egg, butter)                                                                                        3\n",
       "cheese                                                                                               3\n",
       "(sugar, salt, milk, vanilla extract)                                                                 2\n",
       "(chicken parts, butter, oregano, lemon juice, onion, tomatoes, long-grain white rice)                2\n",
       "                                                                                                    ..\n",
       "(frozen corn kernels, butter, cream cheese, garlic clove, white sugar, salt, dried parsley)          1\n",
       "(dark chocolate, Grand Marnier, marshmallows)                                                        1\n",
       "(onion, salt, ground black pepper, apples, brown sugar, ground mustard, ground cloves, hot water)    1\n",
       "(eggs, onion, tomato sauce, salt, pepper, ground cumin, ground coriander)                            1\n",
       "(butter, lemon juice, Worcestershire sauce, catsup, Kitchen Bouquet, green onions, mushrooms)        1\n",
       "Name: RecipeIngredientParts, Length: 5545, dtype: int64"
      ]
     },
     "execution_count": 188,
     "metadata": {},
     "output_type": "execute_result"
    }
   ],
   "source": [
    "recipes_df['RecipeIngredientParts'].value_counts()"
   ]
  },
  {
   "cell_type": "code",
   "execution_count": 189,
   "metadata": {},
   "outputs": [],
   "source": [
    "def to_1D(series):\n",
    "    return pd.Series([x for _list in series for x in _list])"
   ]
  },
  {
   "cell_type": "code",
   "execution_count": 190,
   "metadata": {},
   "outputs": [],
   "source": [
    "popular_ingredients = to_1D(recipes_df['RecipeIngredientParts']).value_counts()"
   ]
  },
  {
   "cell_type": "code",
   "execution_count": 191,
   "metadata": {},
   "outputs": [
    {
     "data": {
      "text/plain": [
       "<AxesSubplot:>"
      ]
     },
     "execution_count": 191,
     "metadata": {},
     "output_type": "execute_result"
    },
    {
     "data": {
      "image/png": "[encoded data removed]",
      "text/plain": [
       "<Figure size 576x396 with 1 Axes>"
      ]
     },
     "metadata": {},
     "output_type": "display_data"
    }
   ],
   "source": [
    "to_1D(recipes_df['RecipeIngredientParts']).value_counts().head(10).plot(kind='barh')"
   ]
  },
  {
   "cell_type": "code",
   "execution_count": 192,
   "metadata": {},
   "outputs": [
    {
     "data": {
      "text/plain": [
       "<AxesSubplot:>"
      ]
     },
     "execution_count": 192,
     "metadata": {},
     "output_type": "execute_result"
    },
    {
     "data": {
      "image/png": "[encoded data removed]",
      "text/plain": [
       "<Figure size 576x396 with 1 Axes>"
      ]
     },
     "metadata": {},
     "output_type": "display_data"
    }
   ],
   "source": [
    "to_1D(recipes_df['RecipeIngredientParts']).value_counts().tail(10).plot(kind='barh')"
   ]
  },
  {
   "cell_type": "code",
   "execution_count": null,
   "metadata": {},
   "outputs": [],
   "source": []
  },
  {
   "cell_type": "code",
   "execution_count": 193,
   "metadata": {},
   "outputs": [
    {
     "data": {
      "text/plain": [
       "<AxesSubplot:>"
      ]
     },
     "execution_count": 193,
     "metadata": {},
     "output_type": "execute_result"
    },
    {
     "data": {
      "image/png": "[encoded data removed]",
      "text/plain": [
       "<Figure size 576x396 with 1 Axes>"
      ]
     },
     "metadata": {},
     "output_type": "display_data"
    }
   ],
   "source": [
    "recipes_df['Keywords'].value_counts().head(10).plot(kind='barh')"
   ]
  },
  {
   "cell_type": "code",
   "execution_count": null,
   "metadata": {},
   "outputs": [],
   "source": []
  },
  {
   "cell_type": "code",
   "execution_count": null,
   "metadata": {},
   "outputs": [],
   "source": []
  }
 ],
 "metadata": {
  "kernelspec": {
   "display_name": "Python 3",
   "language": "python",
   "name": "python3"
  },
  "language_info": {
   "codemirror_mode": {
    "name": "ipython",
    "version": 3
   },
   "file_extension": ".py",
   "mimetype": "text/x-python",
   "name": "python",
   "nbconvert_exporter": "python",
   "pygments_lexer": "ipython3",
   "version": "3.7.6"
  }
 },
 "nbformat": 4,
 "nbformat_minor": 4
}
